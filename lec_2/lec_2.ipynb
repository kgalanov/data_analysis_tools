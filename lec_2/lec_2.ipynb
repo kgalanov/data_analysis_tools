{
 "cells": [
  {
   "cell_type": "code",
   "execution_count": 1,
   "id": "initial_id",
   "metadata": {
    "collapsed": true,
    "ExecuteTime": {
     "end_time": "2024-02-13T12:05:30.355158300Z",
     "start_time": "2024-02-13T12:05:28.686562500Z"
    }
   },
   "outputs": [],
   "source": [
    "import dask.array as da\n",
    "import numpy as np\n",
    "import pandas as pd\n",
    "import polars as pl"
   ]
  },
  {
   "cell_type": "code",
   "outputs": [
    {
     "data": {
      "text/plain": "0    1\n1    3\n2    5\n3    7\n4    9\ndtype: int64"
     },
     "execution_count": 2,
     "metadata": {},
     "output_type": "execute_result"
    }
   ],
   "source": [
    "# Создание Series из списка\n",
    "s = pd.Series([1, 3, 5, 7, 9])\n",
    "s"
   ],
   "metadata": {
    "collapsed": false,
    "ExecuteTime": {
     "end_time": "2024-02-13T10:56:26.158329900Z",
     "start_time": "2024-02-13T10:56:25.988176200Z"
    }
   },
   "id": "1125c04804c91444",
   "execution_count": 2
  },
  {
   "cell_type": "code",
   "outputs": [
    {
     "data": {
      "text/plain": "    Name  Age\n0   John   28\n1   Anna   35\n2  Peter   24\n3  Linda   40",
      "text/html": "<div>\n<style scoped>\n    .dataframe tbody tr th:only-of-type {\n        vertical-align: middle;\n    }\n\n    .dataframe tbody tr th {\n        vertical-align: top;\n    }\n\n    .dataframe thead th {\n        text-align: right;\n    }\n</style>\n<table border=\"1\" class=\"dataframe\">\n  <thead>\n    <tr style=\"text-align: right;\">\n      <th></th>\n      <th>Name</th>\n      <th>Age</th>\n    </tr>\n  </thead>\n  <tbody>\n    <tr>\n      <th>0</th>\n      <td>John</td>\n      <td>28</td>\n    </tr>\n    <tr>\n      <th>1</th>\n      <td>Anna</td>\n      <td>35</td>\n    </tr>\n    <tr>\n      <th>2</th>\n      <td>Peter</td>\n      <td>24</td>\n    </tr>\n    <tr>\n      <th>3</th>\n      <td>Linda</td>\n      <td>40</td>\n    </tr>\n  </tbody>\n</table>\n</div>"
     },
     "execution_count": 3,
     "metadata": {},
     "output_type": "execute_result"
    }
   ],
   "source": [
    "# Создание DataFrame из словаря\n",
    "data = {'Name': ['John', 'Anna', 'Peter', 'Linda'],\n",
    "        'Age': [28, 35, 24, 40]}\n",
    "df = pd.DataFrame(data)\n",
    "df"
   ],
   "metadata": {
    "collapsed": false,
    "ExecuteTime": {
     "end_time": "2024-02-13T10:56:26.197329900Z",
     "start_time": "2024-02-13T10:56:26.000852100Z"
    }
   },
   "id": "c20860c66d3f7558",
   "execution_count": 3
  },
  {
   "cell_type": "code",
   "outputs": [
    {
     "data": {
      "text/plain": "       #            Name   Type 1  Type 2  HP  Attack  Defense  Sp. Atk  \\\n0      1       Bulbasaur    Grass  Poison  45      49       49       65   \n1      2         Ivysaur    Grass  Poison  60      62       63       80   \n2      3        Venusaur    Grass  Poison  80      82       83      100   \n3      4   Mega Venusaur    Grass  Poison  80     100      123      122   \n4      5      Charmander     Fire     NaN  39      52       43       60   \n..   ...             ...      ...     ...  ..     ...      ...      ...   \n795  796         Diancie     Rock   Fairy  50     100      150      100   \n796  797    Mega Diancie     Rock   Fairy  50     160      110      160   \n797  798  Hoopa Confined  Psychic   Ghost  80     110       60      150   \n798  799   Hoopa Unbound  Psychic    Dark  80     160       60      170   \n799  800       Volcanion     Fire   Water  80     110      120      130   \n\n     Sp. Def  Speed  Generation  Legendary  \n0         65     45           1      False  \n1         80     60           1      False  \n2        100     80           1      False  \n3        120     80           1      False  \n4         50     65           1      False  \n..       ...    ...         ...        ...  \n795      150     50           6       True  \n796      110    110           6       True  \n797      130     70           6       True  \n798      130     80           6       True  \n799       90     70           6       True  \n\n[800 rows x 12 columns]",
      "text/html": "<div>\n<style scoped>\n    .dataframe tbody tr th:only-of-type {\n        vertical-align: middle;\n    }\n\n    .dataframe tbody tr th {\n        vertical-align: top;\n    }\n\n    .dataframe thead th {\n        text-align: right;\n    }\n</style>\n<table border=\"1\" class=\"dataframe\">\n  <thead>\n    <tr style=\"text-align: right;\">\n      <th></th>\n      <th>#</th>\n      <th>Name</th>\n      <th>Type 1</th>\n      <th>Type 2</th>\n      <th>HP</th>\n      <th>Attack</th>\n      <th>Defense</th>\n      <th>Sp. Atk</th>\n      <th>Sp. Def</th>\n      <th>Speed</th>\n      <th>Generation</th>\n      <th>Legendary</th>\n    </tr>\n  </thead>\n  <tbody>\n    <tr>\n      <th>0</th>\n      <td>1</td>\n      <td>Bulbasaur</td>\n      <td>Grass</td>\n      <td>Poison</td>\n      <td>45</td>\n      <td>49</td>\n      <td>49</td>\n      <td>65</td>\n      <td>65</td>\n      <td>45</td>\n      <td>1</td>\n      <td>False</td>\n    </tr>\n    <tr>\n      <th>1</th>\n      <td>2</td>\n      <td>Ivysaur</td>\n      <td>Grass</td>\n      <td>Poison</td>\n      <td>60</td>\n      <td>62</td>\n      <td>63</td>\n      <td>80</td>\n      <td>80</td>\n      <td>60</td>\n      <td>1</td>\n      <td>False</td>\n    </tr>\n    <tr>\n      <th>2</th>\n      <td>3</td>\n      <td>Venusaur</td>\n      <td>Grass</td>\n      <td>Poison</td>\n      <td>80</td>\n      <td>82</td>\n      <td>83</td>\n      <td>100</td>\n      <td>100</td>\n      <td>80</td>\n      <td>1</td>\n      <td>False</td>\n    </tr>\n    <tr>\n      <th>3</th>\n      <td>4</td>\n      <td>Mega Venusaur</td>\n      <td>Grass</td>\n      <td>Poison</td>\n      <td>80</td>\n      <td>100</td>\n      <td>123</td>\n      <td>122</td>\n      <td>120</td>\n      <td>80</td>\n      <td>1</td>\n      <td>False</td>\n    </tr>\n    <tr>\n      <th>4</th>\n      <td>5</td>\n      <td>Charmander</td>\n      <td>Fire</td>\n      <td>NaN</td>\n      <td>39</td>\n      <td>52</td>\n      <td>43</td>\n      <td>60</td>\n      <td>50</td>\n      <td>65</td>\n      <td>1</td>\n      <td>False</td>\n    </tr>\n    <tr>\n      <th>...</th>\n      <td>...</td>\n      <td>...</td>\n      <td>...</td>\n      <td>...</td>\n      <td>...</td>\n      <td>...</td>\n      <td>...</td>\n      <td>...</td>\n      <td>...</td>\n      <td>...</td>\n      <td>...</td>\n      <td>...</td>\n    </tr>\n    <tr>\n      <th>795</th>\n      <td>796</td>\n      <td>Diancie</td>\n      <td>Rock</td>\n      <td>Fairy</td>\n      <td>50</td>\n      <td>100</td>\n      <td>150</td>\n      <td>100</td>\n      <td>150</td>\n      <td>50</td>\n      <td>6</td>\n      <td>True</td>\n    </tr>\n    <tr>\n      <th>796</th>\n      <td>797</td>\n      <td>Mega Diancie</td>\n      <td>Rock</td>\n      <td>Fairy</td>\n      <td>50</td>\n      <td>160</td>\n      <td>110</td>\n      <td>160</td>\n      <td>110</td>\n      <td>110</td>\n      <td>6</td>\n      <td>True</td>\n    </tr>\n    <tr>\n      <th>797</th>\n      <td>798</td>\n      <td>Hoopa Confined</td>\n      <td>Psychic</td>\n      <td>Ghost</td>\n      <td>80</td>\n      <td>110</td>\n      <td>60</td>\n      <td>150</td>\n      <td>130</td>\n      <td>70</td>\n      <td>6</td>\n      <td>True</td>\n    </tr>\n    <tr>\n      <th>798</th>\n      <td>799</td>\n      <td>Hoopa Unbound</td>\n      <td>Psychic</td>\n      <td>Dark</td>\n      <td>80</td>\n      <td>160</td>\n      <td>60</td>\n      <td>170</td>\n      <td>130</td>\n      <td>80</td>\n      <td>6</td>\n      <td>True</td>\n    </tr>\n    <tr>\n      <th>799</th>\n      <td>800</td>\n      <td>Volcanion</td>\n      <td>Fire</td>\n      <td>Water</td>\n      <td>80</td>\n      <td>110</td>\n      <td>120</td>\n      <td>130</td>\n      <td>90</td>\n      <td>70</td>\n      <td>6</td>\n      <td>True</td>\n    </tr>\n  </tbody>\n</table>\n<p>800 rows × 12 columns</p>\n</div>"
     },
     "execution_count": 4,
     "metadata": {},
     "output_type": "execute_result"
    }
   ],
   "source": [
    "df = pd.read_csv('pokemon.csv')\n",
    "df"
   ],
   "metadata": {
    "collapsed": false,
    "ExecuteTime": {
     "end_time": "2024-02-13T10:56:26.245627100Z",
     "start_time": "2024-02-13T10:56:26.010842400Z"
    }
   },
   "id": "6728c516a743f333",
   "execution_count": 4
  },
  {
   "cell_type": "code",
   "outputs": [
    {
     "data": {
      "text/plain": "                  #   Type 1  Type 2  HP  Attack  Defense  Sp. Atk  Sp. Def  \\\nName                                                                          \nBulbasaur         1    Grass  Poison  45      49       49       65       65   \nIvysaur           2    Grass  Poison  60      62       63       80       80   \nVenusaur          3    Grass  Poison  80      82       83      100      100   \nMega Venusaur     4    Grass  Poison  80     100      123      122      120   \nCharmander        5     Fire     NaN  39      52       43       60       50   \n...             ...      ...     ...  ..     ...      ...      ...      ...   \nDiancie         796     Rock   Fairy  50     100      150      100      150   \nMega Diancie    797     Rock   Fairy  50     160      110      160      110   \nHoopa Confined  798  Psychic   Ghost  80     110       60      150      130   \nHoopa Unbound   799  Psychic    Dark  80     160       60      170      130   \nVolcanion       800     Fire   Water  80     110      120      130       90   \n\n                Speed  Generation  Legendary  \nName                                          \nBulbasaur          45           1      False  \nIvysaur            60           1      False  \nVenusaur           80           1      False  \nMega Venusaur      80           1      False  \nCharmander         65           1      False  \n...               ...         ...        ...  \nDiancie            50           6       True  \nMega Diancie      110           6       True  \nHoopa Confined     70           6       True  \nHoopa Unbound      80           6       True  \nVolcanion          70           6       True  \n\n[800 rows x 11 columns]",
      "text/html": "<div>\n<style scoped>\n    .dataframe tbody tr th:only-of-type {\n        vertical-align: middle;\n    }\n\n    .dataframe tbody tr th {\n        vertical-align: top;\n    }\n\n    .dataframe thead th {\n        text-align: right;\n    }\n</style>\n<table border=\"1\" class=\"dataframe\">\n  <thead>\n    <tr style=\"text-align: right;\">\n      <th></th>\n      <th>#</th>\n      <th>Type 1</th>\n      <th>Type 2</th>\n      <th>HP</th>\n      <th>Attack</th>\n      <th>Defense</th>\n      <th>Sp. Atk</th>\n      <th>Sp. Def</th>\n      <th>Speed</th>\n      <th>Generation</th>\n      <th>Legendary</th>\n    </tr>\n    <tr>\n      <th>Name</th>\n      <th></th>\n      <th></th>\n      <th></th>\n      <th></th>\n      <th></th>\n      <th></th>\n      <th></th>\n      <th></th>\n      <th></th>\n      <th></th>\n      <th></th>\n    </tr>\n  </thead>\n  <tbody>\n    <tr>\n      <th>Bulbasaur</th>\n      <td>1</td>\n      <td>Grass</td>\n      <td>Poison</td>\n      <td>45</td>\n      <td>49</td>\n      <td>49</td>\n      <td>65</td>\n      <td>65</td>\n      <td>45</td>\n      <td>1</td>\n      <td>False</td>\n    </tr>\n    <tr>\n      <th>Ivysaur</th>\n      <td>2</td>\n      <td>Grass</td>\n      <td>Poison</td>\n      <td>60</td>\n      <td>62</td>\n      <td>63</td>\n      <td>80</td>\n      <td>80</td>\n      <td>60</td>\n      <td>1</td>\n      <td>False</td>\n    </tr>\n    <tr>\n      <th>Venusaur</th>\n      <td>3</td>\n      <td>Grass</td>\n      <td>Poison</td>\n      <td>80</td>\n      <td>82</td>\n      <td>83</td>\n      <td>100</td>\n      <td>100</td>\n      <td>80</td>\n      <td>1</td>\n      <td>False</td>\n    </tr>\n    <tr>\n      <th>Mega Venusaur</th>\n      <td>4</td>\n      <td>Grass</td>\n      <td>Poison</td>\n      <td>80</td>\n      <td>100</td>\n      <td>123</td>\n      <td>122</td>\n      <td>120</td>\n      <td>80</td>\n      <td>1</td>\n      <td>False</td>\n    </tr>\n    <tr>\n      <th>Charmander</th>\n      <td>5</td>\n      <td>Fire</td>\n      <td>NaN</td>\n      <td>39</td>\n      <td>52</td>\n      <td>43</td>\n      <td>60</td>\n      <td>50</td>\n      <td>65</td>\n      <td>1</td>\n      <td>False</td>\n    </tr>\n    <tr>\n      <th>...</th>\n      <td>...</td>\n      <td>...</td>\n      <td>...</td>\n      <td>...</td>\n      <td>...</td>\n      <td>...</td>\n      <td>...</td>\n      <td>...</td>\n      <td>...</td>\n      <td>...</td>\n      <td>...</td>\n    </tr>\n    <tr>\n      <th>Diancie</th>\n      <td>796</td>\n      <td>Rock</td>\n      <td>Fairy</td>\n      <td>50</td>\n      <td>100</td>\n      <td>150</td>\n      <td>100</td>\n      <td>150</td>\n      <td>50</td>\n      <td>6</td>\n      <td>True</td>\n    </tr>\n    <tr>\n      <th>Mega Diancie</th>\n      <td>797</td>\n      <td>Rock</td>\n      <td>Fairy</td>\n      <td>50</td>\n      <td>160</td>\n      <td>110</td>\n      <td>160</td>\n      <td>110</td>\n      <td>110</td>\n      <td>6</td>\n      <td>True</td>\n    </tr>\n    <tr>\n      <th>Hoopa Confined</th>\n      <td>798</td>\n      <td>Psychic</td>\n      <td>Ghost</td>\n      <td>80</td>\n      <td>110</td>\n      <td>60</td>\n      <td>150</td>\n      <td>130</td>\n      <td>70</td>\n      <td>6</td>\n      <td>True</td>\n    </tr>\n    <tr>\n      <th>Hoopa Unbound</th>\n      <td>799</td>\n      <td>Psychic</td>\n      <td>Dark</td>\n      <td>80</td>\n      <td>160</td>\n      <td>60</td>\n      <td>170</td>\n      <td>130</td>\n      <td>80</td>\n      <td>6</td>\n      <td>True</td>\n    </tr>\n    <tr>\n      <th>Volcanion</th>\n      <td>800</td>\n      <td>Fire</td>\n      <td>Water</td>\n      <td>80</td>\n      <td>110</td>\n      <td>120</td>\n      <td>130</td>\n      <td>90</td>\n      <td>70</td>\n      <td>6</td>\n      <td>True</td>\n    </tr>\n  </tbody>\n</table>\n<p>800 rows × 11 columns</p>\n</div>"
     },
     "execution_count": 5,
     "metadata": {},
     "output_type": "execute_result"
    }
   ],
   "source": [
    "df = pd.read_csv('pokemon.csv', index_col=1)\n",
    "df"
   ],
   "metadata": {
    "collapsed": false,
    "ExecuteTime": {
     "end_time": "2024-02-13T10:56:26.281813100Z",
     "start_time": "2024-02-13T10:56:26.034486100Z"
    }
   },
   "id": "bf72b9bc632d4523",
   "execution_count": 5
  },
  {
   "cell_type": "code",
   "outputs": [
    {
     "data": {
      "text/plain": "                  #   Type 1  Type 2  HP  Attack  Defense  Sp. Atk  Sp. Def  \\\nName                                                                          \nBulbasaur         1    Grass  Poison  45      49       49       65       65   \nIvysaur           2    Grass  Poison  60      62       63       80       80   \nVenusaur          3    Grass  Poison  80      82       83      100      100   \nMega Venusaur     4    Grass  Poison  80     100      123      122      120   \nCharmander        5      NaN     NaN  39      52       43       60       50   \n...             ...      ...     ...  ..     ...      ...      ...      ...   \nDiancie         796     Rock   Fairy  50     100      150      100      150   \nMega Diancie    797     Rock   Fairy  50     160      110      160      110   \nHoopa Confined  798  Psychic   Ghost  80     110       60      150      130   \nHoopa Unbound   799  Psychic    Dark  80     160       60      170      130   \nVolcanion       800      NaN   Water  80     110      120      130       90   \n\n                Speed  Generation  Legendary  \nName                                          \nBulbasaur          45           1      False  \nIvysaur            60           1      False  \nVenusaur           80           1      False  \nMega Venusaur      80           1      False  \nCharmander         65           1      False  \n...               ...         ...        ...  \nDiancie            50           6       True  \nMega Diancie      110           6       True  \nHoopa Confined     70           6       True  \nHoopa Unbound      80           6       True  \nVolcanion          70           6       True  \n\n[800 rows x 11 columns]",
      "text/html": "<div>\n<style scoped>\n    .dataframe tbody tr th:only-of-type {\n        vertical-align: middle;\n    }\n\n    .dataframe tbody tr th {\n        vertical-align: top;\n    }\n\n    .dataframe thead th {\n        text-align: right;\n    }\n</style>\n<table border=\"1\" class=\"dataframe\">\n  <thead>\n    <tr style=\"text-align: right;\">\n      <th></th>\n      <th>#</th>\n      <th>Type 1</th>\n      <th>Type 2</th>\n      <th>HP</th>\n      <th>Attack</th>\n      <th>Defense</th>\n      <th>Sp. Atk</th>\n      <th>Sp. Def</th>\n      <th>Speed</th>\n      <th>Generation</th>\n      <th>Legendary</th>\n    </tr>\n    <tr>\n      <th>Name</th>\n      <th></th>\n      <th></th>\n      <th></th>\n      <th></th>\n      <th></th>\n      <th></th>\n      <th></th>\n      <th></th>\n      <th></th>\n      <th></th>\n      <th></th>\n    </tr>\n  </thead>\n  <tbody>\n    <tr>\n      <th>Bulbasaur</th>\n      <td>1</td>\n      <td>Grass</td>\n      <td>Poison</td>\n      <td>45</td>\n      <td>49</td>\n      <td>49</td>\n      <td>65</td>\n      <td>65</td>\n      <td>45</td>\n      <td>1</td>\n      <td>False</td>\n    </tr>\n    <tr>\n      <th>Ivysaur</th>\n      <td>2</td>\n      <td>Grass</td>\n      <td>Poison</td>\n      <td>60</td>\n      <td>62</td>\n      <td>63</td>\n      <td>80</td>\n      <td>80</td>\n      <td>60</td>\n      <td>1</td>\n      <td>False</td>\n    </tr>\n    <tr>\n      <th>Venusaur</th>\n      <td>3</td>\n      <td>Grass</td>\n      <td>Poison</td>\n      <td>80</td>\n      <td>82</td>\n      <td>83</td>\n      <td>100</td>\n      <td>100</td>\n      <td>80</td>\n      <td>1</td>\n      <td>False</td>\n    </tr>\n    <tr>\n      <th>Mega Venusaur</th>\n      <td>4</td>\n      <td>Grass</td>\n      <td>Poison</td>\n      <td>80</td>\n      <td>100</td>\n      <td>123</td>\n      <td>122</td>\n      <td>120</td>\n      <td>80</td>\n      <td>1</td>\n      <td>False</td>\n    </tr>\n    <tr>\n      <th>Charmander</th>\n      <td>5</td>\n      <td>NaN</td>\n      <td>NaN</td>\n      <td>39</td>\n      <td>52</td>\n      <td>43</td>\n      <td>60</td>\n      <td>50</td>\n      <td>65</td>\n      <td>1</td>\n      <td>False</td>\n    </tr>\n    <tr>\n      <th>...</th>\n      <td>...</td>\n      <td>...</td>\n      <td>...</td>\n      <td>...</td>\n      <td>...</td>\n      <td>...</td>\n      <td>...</td>\n      <td>...</td>\n      <td>...</td>\n      <td>...</td>\n      <td>...</td>\n    </tr>\n    <tr>\n      <th>Diancie</th>\n      <td>796</td>\n      <td>Rock</td>\n      <td>Fairy</td>\n      <td>50</td>\n      <td>100</td>\n      <td>150</td>\n      <td>100</td>\n      <td>150</td>\n      <td>50</td>\n      <td>6</td>\n      <td>True</td>\n    </tr>\n    <tr>\n      <th>Mega Diancie</th>\n      <td>797</td>\n      <td>Rock</td>\n      <td>Fairy</td>\n      <td>50</td>\n      <td>160</td>\n      <td>110</td>\n      <td>160</td>\n      <td>110</td>\n      <td>110</td>\n      <td>6</td>\n      <td>True</td>\n    </tr>\n    <tr>\n      <th>Hoopa Confined</th>\n      <td>798</td>\n      <td>Psychic</td>\n      <td>Ghost</td>\n      <td>80</td>\n      <td>110</td>\n      <td>60</td>\n      <td>150</td>\n      <td>130</td>\n      <td>70</td>\n      <td>6</td>\n      <td>True</td>\n    </tr>\n    <tr>\n      <th>Hoopa Unbound</th>\n      <td>799</td>\n      <td>Psychic</td>\n      <td>Dark</td>\n      <td>80</td>\n      <td>160</td>\n      <td>60</td>\n      <td>170</td>\n      <td>130</td>\n      <td>80</td>\n      <td>6</td>\n      <td>True</td>\n    </tr>\n    <tr>\n      <th>Volcanion</th>\n      <td>800</td>\n      <td>NaN</td>\n      <td>Water</td>\n      <td>80</td>\n      <td>110</td>\n      <td>120</td>\n      <td>130</td>\n      <td>90</td>\n      <td>70</td>\n      <td>6</td>\n      <td>True</td>\n    </tr>\n  </tbody>\n</table>\n<p>800 rows × 11 columns</p>\n</div>"
     },
     "execution_count": 6,
     "metadata": {},
     "output_type": "execute_result"
    }
   ],
   "source": [
    "df = pd.read_csv('pokemon.csv', index_col=1, na_values='Fire')\n",
    "df"
   ],
   "metadata": {
    "collapsed": false,
    "ExecuteTime": {
     "end_time": "2024-02-13T10:56:26.285811400Z",
     "start_time": "2024-02-13T10:56:26.053593500Z"
    }
   },
   "id": "4d8a4f4a19a379f",
   "execution_count": 6
  },
  {
   "cell_type": "code",
   "outputs": [
    {
     "data": {
      "text/plain": "            Date   Time  EARLWOOD WDR 1h average [°]  \\\n0     01/01/2017  01:00                        152.3   \n1     01/01/2017  02:00                        134.0   \n2     01/01/2017  03:00                        132.2   \n3     01/01/2017  04:00                        125.8   \n4     01/01/2017  05:00                        107.9   \n...          ...    ...                          ...   \n8779  01/01/2018  20:00                        164.8   \n8780  01/01/2018  21:00                        181.5   \n8781  01/01/2018  22:00                        197.8   \n8782  01/01/2018  23:00                        201.4   \n8783  01/01/2018  24:00                        191.3   \n\n      EARLWOOD TEMP 1h average [°C]  EARLWOOD WSP 1h average [m/s]  \\\n0                              22.6                            0.4   \n1                              22.6                            0.3   \n2                              22.6                            0.3   \n3                              22.7                            0.2   \n4                              22.8                            0.6   \n...                             ...                            ...   \n8779                           23.0                            0.9   \n8780                           22.8                            1.0   \n8781                           22.9                            1.1   \n8782                           22.6                            1.1   \n8783                           21.7                            0.3   \n\n      EARLWOOD NO 1h average [pphm]  EARLWOOD NO2 1h average [pphm]  \\\n0                               0.0                             0.4   \n1                               NaN                             NaN   \n2                               0.0                             0.6   \n3                               0.0                             0.5   \n4                               0.0                             0.3   \n...                             ...                             ...   \n8779                            0.0                             0.2   \n8780                            0.0                             0.1   \n8781                            0.0                             0.1   \n8782                            0.0                             0.1   \n8783                            0.0                             0.1   \n\n      EARLWOOD CO 1h average [ppm]  EARLWOOD OZONE 1h average [pphm]  \\\n0                              NaN                               2.0   \n1                              NaN                               NaN   \n2                              NaN                               1.7   \n3                              NaN                               1.7   \n4                              NaN                               2.1   \n...                            ...                               ...   \n8779                           NaN                               2.9   \n8780                           NaN                               2.9   \n8781                           NaN                               3.0   \n8782                           NaN                               3.0   \n8783                           NaN                               2.7   \n\n      EARLWOOD OZONE 4h rolling average [pphm]  \\\n0                                          2.1   \n1                                          2.2   \n2                                          2.0   \n3                                          1.8   \n4                                          1.8   \n...                                        ...   \n8779                                       2.8   \n8780                                       2.9   \n8781                                       2.9   \n8782                                       3.0   \n8783                                       2.9   \n\n      EARLWOOD PM10 1h average [µg/m³]  EARLWOOD PM2.5 1h average [µg/m³]  \\\n0                                 23.6                                7.0   \n1                                 21.0                                6.6   \n2                                 20.0                                7.2   \n3                                 21.4                                7.1   \n4                                 21.5                                4.3   \n...                                ...                                ...   \n8779                              23.7                                8.5   \n8780                              18.6                               10.8   \n8781                              14.4                                8.2   \n8782                              13.5                                5.5   \n8783                              13.5                                2.6   \n\n      EARLWOOD HUMID 1h average [%]  EARLWOOD SD1 1h average [°]  \\\n0                              87.2                        49.01   \n1                              87.2                        46.56   \n2                              87.0                        47.40   \n3                              87.2                        53.70   \n4                              86.8                        41.65   \n...                             ...                          ...   \n8779                           78.6                        48.50   \n8780                           78.1                        44.08   \n8781                           76.0                        38.30   \n8782                           75.3                        37.33   \n8783                           79.2                        64.66   \n\n      EARLWOOD CO 8h rolling average [ppm]  \n0                                      NaN  \n1                                      NaN  \n2                                      NaN  \n3                                      NaN  \n4                                      NaN  \n...                                    ...  \n8779                                   NaN  \n8780                                   NaN  \n8781                                   NaN  \n8782                                   NaN  \n8783                                   NaN  \n\n[8784 rows x 15 columns]",
      "text/html": "<div>\n<style scoped>\n    .dataframe tbody tr th:only-of-type {\n        vertical-align: middle;\n    }\n\n    .dataframe tbody tr th {\n        vertical-align: top;\n    }\n\n    .dataframe thead th {\n        text-align: right;\n    }\n</style>\n<table border=\"1\" class=\"dataframe\">\n  <thead>\n    <tr style=\"text-align: right;\">\n      <th></th>\n      <th>Date</th>\n      <th>Time</th>\n      <th>EARLWOOD WDR 1h average [°]</th>\n      <th>EARLWOOD TEMP 1h average [°C]</th>\n      <th>EARLWOOD WSP 1h average [m/s]</th>\n      <th>EARLWOOD NO 1h average [pphm]</th>\n      <th>EARLWOOD NO2 1h average [pphm]</th>\n      <th>EARLWOOD CO 1h average [ppm]</th>\n      <th>EARLWOOD OZONE 1h average [pphm]</th>\n      <th>EARLWOOD OZONE 4h rolling average [pphm]</th>\n      <th>EARLWOOD PM10 1h average [µg/m³]</th>\n      <th>EARLWOOD PM2.5 1h average [µg/m³]</th>\n      <th>EARLWOOD HUMID 1h average [%]</th>\n      <th>EARLWOOD SD1 1h average [°]</th>\n      <th>EARLWOOD CO 8h rolling average [ppm]</th>\n    </tr>\n  </thead>\n  <tbody>\n    <tr>\n      <th>0</th>\n      <td>01/01/2017</td>\n      <td>01:00</td>\n      <td>152.3</td>\n      <td>22.6</td>\n      <td>0.4</td>\n      <td>0.0</td>\n      <td>0.4</td>\n      <td>NaN</td>\n      <td>2.0</td>\n      <td>2.1</td>\n      <td>23.6</td>\n      <td>7.0</td>\n      <td>87.2</td>\n      <td>49.01</td>\n      <td>NaN</td>\n    </tr>\n    <tr>\n      <th>1</th>\n      <td>01/01/2017</td>\n      <td>02:00</td>\n      <td>134.0</td>\n      <td>22.6</td>\n      <td>0.3</td>\n      <td>NaN</td>\n      <td>NaN</td>\n      <td>NaN</td>\n      <td>NaN</td>\n      <td>2.2</td>\n      <td>21.0</td>\n      <td>6.6</td>\n      <td>87.2</td>\n      <td>46.56</td>\n      <td>NaN</td>\n    </tr>\n    <tr>\n      <th>2</th>\n      <td>01/01/2017</td>\n      <td>03:00</td>\n      <td>132.2</td>\n      <td>22.6</td>\n      <td>0.3</td>\n      <td>0.0</td>\n      <td>0.6</td>\n      <td>NaN</td>\n      <td>1.7</td>\n      <td>2.0</td>\n      <td>20.0</td>\n      <td>7.2</td>\n      <td>87.0</td>\n      <td>47.40</td>\n      <td>NaN</td>\n    </tr>\n    <tr>\n      <th>3</th>\n      <td>01/01/2017</td>\n      <td>04:00</td>\n      <td>125.8</td>\n      <td>22.7</td>\n      <td>0.2</td>\n      <td>0.0</td>\n      <td>0.5</td>\n      <td>NaN</td>\n      <td>1.7</td>\n      <td>1.8</td>\n      <td>21.4</td>\n      <td>7.1</td>\n      <td>87.2</td>\n      <td>53.70</td>\n      <td>NaN</td>\n    </tr>\n    <tr>\n      <th>4</th>\n      <td>01/01/2017</td>\n      <td>05:00</td>\n      <td>107.9</td>\n      <td>22.8</td>\n      <td>0.6</td>\n      <td>0.0</td>\n      <td>0.3</td>\n      <td>NaN</td>\n      <td>2.1</td>\n      <td>1.8</td>\n      <td>21.5</td>\n      <td>4.3</td>\n      <td>86.8</td>\n      <td>41.65</td>\n      <td>NaN</td>\n    </tr>\n    <tr>\n      <th>...</th>\n      <td>...</td>\n      <td>...</td>\n      <td>...</td>\n      <td>...</td>\n      <td>...</td>\n      <td>...</td>\n      <td>...</td>\n      <td>...</td>\n      <td>...</td>\n      <td>...</td>\n      <td>...</td>\n      <td>...</td>\n      <td>...</td>\n      <td>...</td>\n      <td>...</td>\n    </tr>\n    <tr>\n      <th>8779</th>\n      <td>01/01/2018</td>\n      <td>20:00</td>\n      <td>164.8</td>\n      <td>23.0</td>\n      <td>0.9</td>\n      <td>0.0</td>\n      <td>0.2</td>\n      <td>NaN</td>\n      <td>2.9</td>\n      <td>2.8</td>\n      <td>23.7</td>\n      <td>8.5</td>\n      <td>78.6</td>\n      <td>48.50</td>\n      <td>NaN</td>\n    </tr>\n    <tr>\n      <th>8780</th>\n      <td>01/01/2018</td>\n      <td>21:00</td>\n      <td>181.5</td>\n      <td>22.8</td>\n      <td>1.0</td>\n      <td>0.0</td>\n      <td>0.1</td>\n      <td>NaN</td>\n      <td>2.9</td>\n      <td>2.9</td>\n      <td>18.6</td>\n      <td>10.8</td>\n      <td>78.1</td>\n      <td>44.08</td>\n      <td>NaN</td>\n    </tr>\n    <tr>\n      <th>8781</th>\n      <td>01/01/2018</td>\n      <td>22:00</td>\n      <td>197.8</td>\n      <td>22.9</td>\n      <td>1.1</td>\n      <td>0.0</td>\n      <td>0.1</td>\n      <td>NaN</td>\n      <td>3.0</td>\n      <td>2.9</td>\n      <td>14.4</td>\n      <td>8.2</td>\n      <td>76.0</td>\n      <td>38.30</td>\n      <td>NaN</td>\n    </tr>\n    <tr>\n      <th>8782</th>\n      <td>01/01/2018</td>\n      <td>23:00</td>\n      <td>201.4</td>\n      <td>22.6</td>\n      <td>1.1</td>\n      <td>0.0</td>\n      <td>0.1</td>\n      <td>NaN</td>\n      <td>3.0</td>\n      <td>3.0</td>\n      <td>13.5</td>\n      <td>5.5</td>\n      <td>75.3</td>\n      <td>37.33</td>\n      <td>NaN</td>\n    </tr>\n    <tr>\n      <th>8783</th>\n      <td>01/01/2018</td>\n      <td>24:00</td>\n      <td>191.3</td>\n      <td>21.7</td>\n      <td>0.3</td>\n      <td>0.0</td>\n      <td>0.1</td>\n      <td>NaN</td>\n      <td>2.7</td>\n      <td>2.9</td>\n      <td>13.5</td>\n      <td>2.6</td>\n      <td>79.2</td>\n      <td>64.66</td>\n      <td>NaN</td>\n    </tr>\n  </tbody>\n</table>\n<p>8784 rows × 15 columns</p>\n</div>"
     },
     "execution_count": 7,
     "metadata": {},
     "output_type": "execute_result"
    }
   ],
   "source": [
    "df = pd.read_excel('Earlwood_Air_Data_17_18.xls')\n",
    "df"
   ],
   "metadata": {
    "collapsed": false,
    "ExecuteTime": {
     "end_time": "2024-02-13T10:56:26.855524700Z",
     "start_time": "2024-02-13T10:56:26.071330700Z"
    }
   },
   "id": "6e592de91fbc9c",
   "execution_count": 7
  },
  {
   "cell_type": "code",
   "outputs": [
    {
     "data": {
      "text/plain": "  No. Country/Economy  Real GDP    Agri.    Indus.     Serv.\n0   –           World  60093221  1968215  16453140  38396695\n1   1   United States  15160104   149023   3042332  11518980",
      "text/html": "<div>\n<style scoped>\n    .dataframe tbody tr th:only-of-type {\n        vertical-align: middle;\n    }\n\n    .dataframe tbody tr th {\n        vertical-align: top;\n    }\n\n    .dataframe thead th {\n        text-align: right;\n    }\n</style>\n<table border=\"1\" class=\"dataframe\">\n  <thead>\n    <tr style=\"text-align: right;\">\n      <th></th>\n      <th>No.</th>\n      <th>Country/Economy</th>\n      <th>Real GDP</th>\n      <th>Agri.</th>\n      <th>Indus.</th>\n      <th>Serv.</th>\n    </tr>\n  </thead>\n  <tbody>\n    <tr>\n      <th>0</th>\n      <td>–</td>\n      <td>World</td>\n      <td>60093221</td>\n      <td>1968215</td>\n      <td>16453140</td>\n      <td>38396695</td>\n    </tr>\n    <tr>\n      <th>1</th>\n      <td>1</td>\n      <td>United States</td>\n      <td>15160104</td>\n      <td>149023</td>\n      <td>3042332</td>\n      <td>11518980</td>\n    </tr>\n  </tbody>\n</table>\n</div>"
     },
     "execution_count": 8,
     "metadata": {},
     "output_type": "execute_result"
    }
   ],
   "source": [
    "table_GDP = pd.read_html('https://en.wikipedia.org/wiki/Economy_of_the_United_States', match='Real GDP')\n",
    "df_GDP = table_GDP[0]\n",
    "df_GDP"
   ],
   "metadata": {
    "collapsed": false,
    "ExecuteTime": {
     "end_time": "2024-02-13T10:56:27.734524800Z",
     "start_time": "2024-02-13T10:56:26.458526400Z"
    }
   },
   "id": "a894e13838126b65",
   "execution_count": 8
  },
  {
   "cell_type": "code",
   "outputs": [
    {
     "data": {
      "text/plain": "                  #   Type 1  Type 2  HP  Attack  Defense  Sp. Atk  Sp. Def  \\\nName                                                                          \nBulbasaur         1    Grass  Poison  45      49       49       65       65   \nIvysaur           2    Grass  Poison  60      62       63       80       80   \nVenusaur          3    Grass  Poison  80      82       83      100      100   \nMega Venusaur     4    Grass  Poison  80     100      123      122      120   \nCharmander        5     Fire     NaN  39      52       43       60       50   \n...             ...      ...     ...  ..     ...      ...      ...      ...   \nDiancie         796     Rock   Fairy  50     100      150      100      150   \nMega Diancie    797     Rock   Fairy  50     160      110      160      110   \nHoopa Confined  798  Psychic   Ghost  80     110       60      150      130   \nHoopa Unbound   799  Psychic    Dark  80     160       60      170      130   \nVolcanion       800     Fire   Water  80     110      120      130       90   \n\n                Speed  Generation  Legendary  \nName                                          \nBulbasaur          45           1      False  \nIvysaur            60           1      False  \nVenusaur           80           1      False  \nMega Venusaur      80           1      False  \nCharmander         65           1      False  \n...               ...         ...        ...  \nDiancie            50           6       True  \nMega Diancie      110           6       True  \nHoopa Confined     70           6       True  \nHoopa Unbound      80           6       True  \nVolcanion          70           6       True  \n\n[800 rows x 11 columns]",
      "text/html": "<div>\n<style scoped>\n    .dataframe tbody tr th:only-of-type {\n        vertical-align: middle;\n    }\n\n    .dataframe tbody tr th {\n        vertical-align: top;\n    }\n\n    .dataframe thead th {\n        text-align: right;\n    }\n</style>\n<table border=\"1\" class=\"dataframe\">\n  <thead>\n    <tr style=\"text-align: right;\">\n      <th></th>\n      <th>#</th>\n      <th>Type 1</th>\n      <th>Type 2</th>\n      <th>HP</th>\n      <th>Attack</th>\n      <th>Defense</th>\n      <th>Sp. Atk</th>\n      <th>Sp. Def</th>\n      <th>Speed</th>\n      <th>Generation</th>\n      <th>Legendary</th>\n    </tr>\n    <tr>\n      <th>Name</th>\n      <th></th>\n      <th></th>\n      <th></th>\n      <th></th>\n      <th></th>\n      <th></th>\n      <th></th>\n      <th></th>\n      <th></th>\n      <th></th>\n      <th></th>\n    </tr>\n  </thead>\n  <tbody>\n    <tr>\n      <th>Bulbasaur</th>\n      <td>1</td>\n      <td>Grass</td>\n      <td>Poison</td>\n      <td>45</td>\n      <td>49</td>\n      <td>49</td>\n      <td>65</td>\n      <td>65</td>\n      <td>45</td>\n      <td>1</td>\n      <td>False</td>\n    </tr>\n    <tr>\n      <th>Ivysaur</th>\n      <td>2</td>\n      <td>Grass</td>\n      <td>Poison</td>\n      <td>60</td>\n      <td>62</td>\n      <td>63</td>\n      <td>80</td>\n      <td>80</td>\n      <td>60</td>\n      <td>1</td>\n      <td>False</td>\n    </tr>\n    <tr>\n      <th>Venusaur</th>\n      <td>3</td>\n      <td>Grass</td>\n      <td>Poison</td>\n      <td>80</td>\n      <td>82</td>\n      <td>83</td>\n      <td>100</td>\n      <td>100</td>\n      <td>80</td>\n      <td>1</td>\n      <td>False</td>\n    </tr>\n    <tr>\n      <th>Mega Venusaur</th>\n      <td>4</td>\n      <td>Grass</td>\n      <td>Poison</td>\n      <td>80</td>\n      <td>100</td>\n      <td>123</td>\n      <td>122</td>\n      <td>120</td>\n      <td>80</td>\n      <td>1</td>\n      <td>False</td>\n    </tr>\n    <tr>\n      <th>Charmander</th>\n      <td>5</td>\n      <td>Fire</td>\n      <td>NaN</td>\n      <td>39</td>\n      <td>52</td>\n      <td>43</td>\n      <td>60</td>\n      <td>50</td>\n      <td>65</td>\n      <td>1</td>\n      <td>False</td>\n    </tr>\n    <tr>\n      <th>...</th>\n      <td>...</td>\n      <td>...</td>\n      <td>...</td>\n      <td>...</td>\n      <td>...</td>\n      <td>...</td>\n      <td>...</td>\n      <td>...</td>\n      <td>...</td>\n      <td>...</td>\n      <td>...</td>\n    </tr>\n    <tr>\n      <th>Diancie</th>\n      <td>796</td>\n      <td>Rock</td>\n      <td>Fairy</td>\n      <td>50</td>\n      <td>100</td>\n      <td>150</td>\n      <td>100</td>\n      <td>150</td>\n      <td>50</td>\n      <td>6</td>\n      <td>True</td>\n    </tr>\n    <tr>\n      <th>Mega Diancie</th>\n      <td>797</td>\n      <td>Rock</td>\n      <td>Fairy</td>\n      <td>50</td>\n      <td>160</td>\n      <td>110</td>\n      <td>160</td>\n      <td>110</td>\n      <td>110</td>\n      <td>6</td>\n      <td>True</td>\n    </tr>\n    <tr>\n      <th>Hoopa Confined</th>\n      <td>798</td>\n      <td>Psychic</td>\n      <td>Ghost</td>\n      <td>80</td>\n      <td>110</td>\n      <td>60</td>\n      <td>150</td>\n      <td>130</td>\n      <td>70</td>\n      <td>6</td>\n      <td>True</td>\n    </tr>\n    <tr>\n      <th>Hoopa Unbound</th>\n      <td>799</td>\n      <td>Psychic</td>\n      <td>Dark</td>\n      <td>80</td>\n      <td>160</td>\n      <td>60</td>\n      <td>170</td>\n      <td>130</td>\n      <td>80</td>\n      <td>6</td>\n      <td>True</td>\n    </tr>\n    <tr>\n      <th>Volcanion</th>\n      <td>800</td>\n      <td>Fire</td>\n      <td>Water</td>\n      <td>80</td>\n      <td>110</td>\n      <td>120</td>\n      <td>130</td>\n      <td>90</td>\n      <td>70</td>\n      <td>6</td>\n      <td>True</td>\n    </tr>\n  </tbody>\n</table>\n<p>800 rows × 11 columns</p>\n</div>"
     },
     "execution_count": 9,
     "metadata": {},
     "output_type": "execute_result"
    }
   ],
   "source": [
    "df = pd.read_csv('pokemon.csv', index_col=1)\n",
    "df"
   ],
   "metadata": {
    "collapsed": false,
    "ExecuteTime": {
     "end_time": "2024-02-13T10:56:27.736524800Z",
     "start_time": "2024-02-13T10:56:27.463584700Z"
    }
   },
   "id": "6ad8628fed6361b5",
   "execution_count": 9
  },
  {
   "cell_type": "code",
   "outputs": [
    {
     "data": {
      "text/plain": "                         #    Type 1  Type 2   HP  Attack  Defense  Sp. Atk  \\\nName                                                                          \nAbomasnow              511     Grass     Ice   90      92       75       92   \nAbra                    69   Psychic     NaN   25      20       15      105   \nAbsol                  393      Dark     NaN   65     130       60       75   \nAccelgor               679       Bug     NaN   80      70       40      100   \nAegislash Blade Forme  751     Steel   Ghost   60     150       50      150   \n...                    ...       ...     ...  ...     ...      ...      ...   \nZorua                  632      Dark     NaN   40      65       40       80   \nZubat                   47    Poison  Flying   40      45       35       30   \nZweilous               696      Dark  Dragon   72      85       70       65   \nZygarde Half Forme     795    Dragon  Ground  108     100      121       81   \nNaN                     63  Fighting     NaN   65     105       60       60   \n\n                       Sp. Def  Speed  Generation  Legendary  \nName                                                          \nAbomasnow                   85     60           4      False  \nAbra                        55     90           1      False  \nAbsol                       60     75           3      False  \nAccelgor                    60    145           5      False  \nAegislash Blade Forme       50     60           6      False  \n...                        ...    ...         ...        ...  \nZorua                       40     65           5      False  \nZubat                       40     55           1      False  \nZweilous                    70     58           5      False  \nZygarde Half Forme          95     95           6       True  \nNaN                         70     95           1      False  \n\n[800 rows x 11 columns]",
      "text/html": "<div>\n<style scoped>\n    .dataframe tbody tr th:only-of-type {\n        vertical-align: middle;\n    }\n\n    .dataframe tbody tr th {\n        vertical-align: top;\n    }\n\n    .dataframe thead th {\n        text-align: right;\n    }\n</style>\n<table border=\"1\" class=\"dataframe\">\n  <thead>\n    <tr style=\"text-align: right;\">\n      <th></th>\n      <th>#</th>\n      <th>Type 1</th>\n      <th>Type 2</th>\n      <th>HP</th>\n      <th>Attack</th>\n      <th>Defense</th>\n      <th>Sp. Atk</th>\n      <th>Sp. Def</th>\n      <th>Speed</th>\n      <th>Generation</th>\n      <th>Legendary</th>\n    </tr>\n    <tr>\n      <th>Name</th>\n      <th></th>\n      <th></th>\n      <th></th>\n      <th></th>\n      <th></th>\n      <th></th>\n      <th></th>\n      <th></th>\n      <th></th>\n      <th></th>\n      <th></th>\n    </tr>\n  </thead>\n  <tbody>\n    <tr>\n      <th>Abomasnow</th>\n      <td>511</td>\n      <td>Grass</td>\n      <td>Ice</td>\n      <td>90</td>\n      <td>92</td>\n      <td>75</td>\n      <td>92</td>\n      <td>85</td>\n      <td>60</td>\n      <td>4</td>\n      <td>False</td>\n    </tr>\n    <tr>\n      <th>Abra</th>\n      <td>69</td>\n      <td>Psychic</td>\n      <td>NaN</td>\n      <td>25</td>\n      <td>20</td>\n      <td>15</td>\n      <td>105</td>\n      <td>55</td>\n      <td>90</td>\n      <td>1</td>\n      <td>False</td>\n    </tr>\n    <tr>\n      <th>Absol</th>\n      <td>393</td>\n      <td>Dark</td>\n      <td>NaN</td>\n      <td>65</td>\n      <td>130</td>\n      <td>60</td>\n      <td>75</td>\n      <td>60</td>\n      <td>75</td>\n      <td>3</td>\n      <td>False</td>\n    </tr>\n    <tr>\n      <th>Accelgor</th>\n      <td>679</td>\n      <td>Bug</td>\n      <td>NaN</td>\n      <td>80</td>\n      <td>70</td>\n      <td>40</td>\n      <td>100</td>\n      <td>60</td>\n      <td>145</td>\n      <td>5</td>\n      <td>False</td>\n    </tr>\n    <tr>\n      <th>Aegislash Blade Forme</th>\n      <td>751</td>\n      <td>Steel</td>\n      <td>Ghost</td>\n      <td>60</td>\n      <td>150</td>\n      <td>50</td>\n      <td>150</td>\n      <td>50</td>\n      <td>60</td>\n      <td>6</td>\n      <td>False</td>\n    </tr>\n    <tr>\n      <th>...</th>\n      <td>...</td>\n      <td>...</td>\n      <td>...</td>\n      <td>...</td>\n      <td>...</td>\n      <td>...</td>\n      <td>...</td>\n      <td>...</td>\n      <td>...</td>\n      <td>...</td>\n      <td>...</td>\n    </tr>\n    <tr>\n      <th>Zorua</th>\n      <td>632</td>\n      <td>Dark</td>\n      <td>NaN</td>\n      <td>40</td>\n      <td>65</td>\n      <td>40</td>\n      <td>80</td>\n      <td>40</td>\n      <td>65</td>\n      <td>5</td>\n      <td>False</td>\n    </tr>\n    <tr>\n      <th>Zubat</th>\n      <td>47</td>\n      <td>Poison</td>\n      <td>Flying</td>\n      <td>40</td>\n      <td>45</td>\n      <td>35</td>\n      <td>30</td>\n      <td>40</td>\n      <td>55</td>\n      <td>1</td>\n      <td>False</td>\n    </tr>\n    <tr>\n      <th>Zweilous</th>\n      <td>696</td>\n      <td>Dark</td>\n      <td>Dragon</td>\n      <td>72</td>\n      <td>85</td>\n      <td>70</td>\n      <td>65</td>\n      <td>70</td>\n      <td>58</td>\n      <td>5</td>\n      <td>False</td>\n    </tr>\n    <tr>\n      <th>Zygarde Half Forme</th>\n      <td>795</td>\n      <td>Dragon</td>\n      <td>Ground</td>\n      <td>108</td>\n      <td>100</td>\n      <td>121</td>\n      <td>81</td>\n      <td>95</td>\n      <td>95</td>\n      <td>6</td>\n      <td>True</td>\n    </tr>\n    <tr>\n      <th>NaN</th>\n      <td>63</td>\n      <td>Fighting</td>\n      <td>NaN</td>\n      <td>65</td>\n      <td>105</td>\n      <td>60</td>\n      <td>60</td>\n      <td>70</td>\n      <td>95</td>\n      <td>1</td>\n      <td>False</td>\n    </tr>\n  </tbody>\n</table>\n<p>800 rows × 11 columns</p>\n</div>"
     },
     "execution_count": 10,
     "metadata": {},
     "output_type": "execute_result"
    }
   ],
   "source": [
    "df.sort_index()"
   ],
   "metadata": {
    "collapsed": false,
    "ExecuteTime": {
     "end_time": "2024-02-13T10:56:27.739524800Z",
     "start_time": "2024-02-13T10:56:27.481161800Z"
    }
   },
   "id": "eba640e9a45c1736",
   "execution_count": 10
  },
  {
   "cell_type": "code",
   "outputs": [
    {
     "data": {
      "text/plain": "                        #   Type 1   Type 2  HP  Attack  Defense  Sp. Atk  \\\nName                                                                        \nSealeo                400      Ice    Water  90      60       70       75   \nSnorunt               396      Ice      NaN  50      50       50       50   \nMega Absol            394     Dark      NaN  65     150       60      115   \nAbsol                 393     Dark      NaN  65     130       60       75   \nChimecho              392  Psychic      NaN  65      50       70       95   \n...                   ...      ...      ...  ..     ...      ...      ...   \nDelphox               724     Fire  Psychic  75      69       72      114   \nAmaura                769     Rock      Ice  77      59       50       67   \nTyrunt                767     Rock   Dragon  58      89       77       45   \nWormadam Trash Cloak  461      Bug    Steel  60      69       95       69   \nBulbasaur               1    Grass   Poison  45      49       49       65   \n\n                      Sp. Def  Speed  Generation  Legendary  \nName                                                         \nSealeo                     70     45           3      False  \nSnorunt                    50     50           3      False  \nMega Absol                 60    115           3      False  \nAbsol                      60     75           3      False  \nChimecho                   80     65           3      False  \n...                       ...    ...         ...        ...  \nDelphox                   100    104           6      False  \nAmaura                     63     46           6      False  \nTyrunt                     45     48           6      False  \nWormadam Trash Cloak       95     36           4      False  \nBulbasaur                  65     45           1      False  \n\n[800 rows x 11 columns]",
      "text/html": "<div>\n<style scoped>\n    .dataframe tbody tr th:only-of-type {\n        vertical-align: middle;\n    }\n\n    .dataframe tbody tr th {\n        vertical-align: top;\n    }\n\n    .dataframe thead th {\n        text-align: right;\n    }\n</style>\n<table border=\"1\" class=\"dataframe\">\n  <thead>\n    <tr style=\"text-align: right;\">\n      <th></th>\n      <th>#</th>\n      <th>Type 1</th>\n      <th>Type 2</th>\n      <th>HP</th>\n      <th>Attack</th>\n      <th>Defense</th>\n      <th>Sp. Atk</th>\n      <th>Sp. Def</th>\n      <th>Speed</th>\n      <th>Generation</th>\n      <th>Legendary</th>\n    </tr>\n    <tr>\n      <th>Name</th>\n      <th></th>\n      <th></th>\n      <th></th>\n      <th></th>\n      <th></th>\n      <th></th>\n      <th></th>\n      <th></th>\n      <th></th>\n      <th></th>\n      <th></th>\n    </tr>\n  </thead>\n  <tbody>\n    <tr>\n      <th>Sealeo</th>\n      <td>400</td>\n      <td>Ice</td>\n      <td>Water</td>\n      <td>90</td>\n      <td>60</td>\n      <td>70</td>\n      <td>75</td>\n      <td>70</td>\n      <td>45</td>\n      <td>3</td>\n      <td>False</td>\n    </tr>\n    <tr>\n      <th>Snorunt</th>\n      <td>396</td>\n      <td>Ice</td>\n      <td>NaN</td>\n      <td>50</td>\n      <td>50</td>\n      <td>50</td>\n      <td>50</td>\n      <td>50</td>\n      <td>50</td>\n      <td>3</td>\n      <td>False</td>\n    </tr>\n    <tr>\n      <th>Mega Absol</th>\n      <td>394</td>\n      <td>Dark</td>\n      <td>NaN</td>\n      <td>65</td>\n      <td>150</td>\n      <td>60</td>\n      <td>115</td>\n      <td>60</td>\n      <td>115</td>\n      <td>3</td>\n      <td>False</td>\n    </tr>\n    <tr>\n      <th>Absol</th>\n      <td>393</td>\n      <td>Dark</td>\n      <td>NaN</td>\n      <td>65</td>\n      <td>130</td>\n      <td>60</td>\n      <td>75</td>\n      <td>60</td>\n      <td>75</td>\n      <td>3</td>\n      <td>False</td>\n    </tr>\n    <tr>\n      <th>Chimecho</th>\n      <td>392</td>\n      <td>Psychic</td>\n      <td>NaN</td>\n      <td>65</td>\n      <td>50</td>\n      <td>70</td>\n      <td>95</td>\n      <td>80</td>\n      <td>65</td>\n      <td>3</td>\n      <td>False</td>\n    </tr>\n    <tr>\n      <th>...</th>\n      <td>...</td>\n      <td>...</td>\n      <td>...</td>\n      <td>...</td>\n      <td>...</td>\n      <td>...</td>\n      <td>...</td>\n      <td>...</td>\n      <td>...</td>\n      <td>...</td>\n      <td>...</td>\n    </tr>\n    <tr>\n      <th>Delphox</th>\n      <td>724</td>\n      <td>Fire</td>\n      <td>Psychic</td>\n      <td>75</td>\n      <td>69</td>\n      <td>72</td>\n      <td>114</td>\n      <td>100</td>\n      <td>104</td>\n      <td>6</td>\n      <td>False</td>\n    </tr>\n    <tr>\n      <th>Amaura</th>\n      <td>769</td>\n      <td>Rock</td>\n      <td>Ice</td>\n      <td>77</td>\n      <td>59</td>\n      <td>50</td>\n      <td>67</td>\n      <td>63</td>\n      <td>46</td>\n      <td>6</td>\n      <td>False</td>\n    </tr>\n    <tr>\n      <th>Tyrunt</th>\n      <td>767</td>\n      <td>Rock</td>\n      <td>Dragon</td>\n      <td>58</td>\n      <td>89</td>\n      <td>77</td>\n      <td>45</td>\n      <td>45</td>\n      <td>48</td>\n      <td>6</td>\n      <td>False</td>\n    </tr>\n    <tr>\n      <th>Wormadam Trash Cloak</th>\n      <td>461</td>\n      <td>Bug</td>\n      <td>Steel</td>\n      <td>60</td>\n      <td>69</td>\n      <td>95</td>\n      <td>69</td>\n      <td>95</td>\n      <td>36</td>\n      <td>4</td>\n      <td>False</td>\n    </tr>\n    <tr>\n      <th>Bulbasaur</th>\n      <td>1</td>\n      <td>Grass</td>\n      <td>Poison</td>\n      <td>45</td>\n      <td>49</td>\n      <td>49</td>\n      <td>65</td>\n      <td>65</td>\n      <td>45</td>\n      <td>1</td>\n      <td>False</td>\n    </tr>\n  </tbody>\n</table>\n<p>800 rows × 11 columns</p>\n</div>"
     },
     "execution_count": 11,
     "metadata": {},
     "output_type": "execute_result"
    }
   ],
   "source": [
    "df.sort_values('Attack', key=lambda x: x % 10)"
   ],
   "metadata": {
    "collapsed": false,
    "ExecuteTime": {
     "end_time": "2024-02-13T10:56:27.762525900Z",
     "start_time": "2024-02-13T10:56:27.497073300Z"
    }
   },
   "id": "5a7289859291de80",
   "execution_count": 11
  },
  {
   "cell_type": "code",
   "outputs": [
    {
     "data": {
      "text/plain": "                    #  Type 1  Type 2     HP  Attack  Defense  Sp. Atk  \\\nName                                                                     \nBulbasaur       False   False   False  False   False    False    False   \nIvysaur         False   False   False  False   False    False    False   \nVenusaur        False   False   False  False   False    False    False   \nMega Venusaur   False   False   False  False   False    False    False   \nCharmander      False   False    True  False   False    False    False   \n...               ...     ...     ...    ...     ...      ...      ...   \nDiancie         False   False   False  False   False    False    False   \nMega Diancie    False   False   False  False   False    False    False   \nHoopa Confined  False   False   False  False   False    False    False   \nHoopa Unbound   False   False   False  False   False    False    False   \nVolcanion       False   False   False  False   False    False    False   \n\n                Sp. Def  Speed  Generation  Legendary  \nName                                                   \nBulbasaur         False  False       False      False  \nIvysaur           False  False       False      False  \nVenusaur          False  False       False      False  \nMega Venusaur     False  False       False      False  \nCharmander        False  False       False      False  \n...                 ...    ...         ...        ...  \nDiancie           False  False       False      False  \nMega Diancie      False  False       False      False  \nHoopa Confined    False  False       False      False  \nHoopa Unbound     False  False       False      False  \nVolcanion         False  False       False      False  \n\n[800 rows x 11 columns]",
      "text/html": "<div>\n<style scoped>\n    .dataframe tbody tr th:only-of-type {\n        vertical-align: middle;\n    }\n\n    .dataframe tbody tr th {\n        vertical-align: top;\n    }\n\n    .dataframe thead th {\n        text-align: right;\n    }\n</style>\n<table border=\"1\" class=\"dataframe\">\n  <thead>\n    <tr style=\"text-align: right;\">\n      <th></th>\n      <th>#</th>\n      <th>Type 1</th>\n      <th>Type 2</th>\n      <th>HP</th>\n      <th>Attack</th>\n      <th>Defense</th>\n      <th>Sp. Atk</th>\n      <th>Sp. Def</th>\n      <th>Speed</th>\n      <th>Generation</th>\n      <th>Legendary</th>\n    </tr>\n    <tr>\n      <th>Name</th>\n      <th></th>\n      <th></th>\n      <th></th>\n      <th></th>\n      <th></th>\n      <th></th>\n      <th></th>\n      <th></th>\n      <th></th>\n      <th></th>\n      <th></th>\n    </tr>\n  </thead>\n  <tbody>\n    <tr>\n      <th>Bulbasaur</th>\n      <td>False</td>\n      <td>False</td>\n      <td>False</td>\n      <td>False</td>\n      <td>False</td>\n      <td>False</td>\n      <td>False</td>\n      <td>False</td>\n      <td>False</td>\n      <td>False</td>\n      <td>False</td>\n    </tr>\n    <tr>\n      <th>Ivysaur</th>\n      <td>False</td>\n      <td>False</td>\n      <td>False</td>\n      <td>False</td>\n      <td>False</td>\n      <td>False</td>\n      <td>False</td>\n      <td>False</td>\n      <td>False</td>\n      <td>False</td>\n      <td>False</td>\n    </tr>\n    <tr>\n      <th>Venusaur</th>\n      <td>False</td>\n      <td>False</td>\n      <td>False</td>\n      <td>False</td>\n      <td>False</td>\n      <td>False</td>\n      <td>False</td>\n      <td>False</td>\n      <td>False</td>\n      <td>False</td>\n      <td>False</td>\n    </tr>\n    <tr>\n      <th>Mega Venusaur</th>\n      <td>False</td>\n      <td>False</td>\n      <td>False</td>\n      <td>False</td>\n      <td>False</td>\n      <td>False</td>\n      <td>False</td>\n      <td>False</td>\n      <td>False</td>\n      <td>False</td>\n      <td>False</td>\n    </tr>\n    <tr>\n      <th>Charmander</th>\n      <td>False</td>\n      <td>False</td>\n      <td>True</td>\n      <td>False</td>\n      <td>False</td>\n      <td>False</td>\n      <td>False</td>\n      <td>False</td>\n      <td>False</td>\n      <td>False</td>\n      <td>False</td>\n    </tr>\n    <tr>\n      <th>...</th>\n      <td>...</td>\n      <td>...</td>\n      <td>...</td>\n      <td>...</td>\n      <td>...</td>\n      <td>...</td>\n      <td>...</td>\n      <td>...</td>\n      <td>...</td>\n      <td>...</td>\n      <td>...</td>\n    </tr>\n    <tr>\n      <th>Diancie</th>\n      <td>False</td>\n      <td>False</td>\n      <td>False</td>\n      <td>False</td>\n      <td>False</td>\n      <td>False</td>\n      <td>False</td>\n      <td>False</td>\n      <td>False</td>\n      <td>False</td>\n      <td>False</td>\n    </tr>\n    <tr>\n      <th>Mega Diancie</th>\n      <td>False</td>\n      <td>False</td>\n      <td>False</td>\n      <td>False</td>\n      <td>False</td>\n      <td>False</td>\n      <td>False</td>\n      <td>False</td>\n      <td>False</td>\n      <td>False</td>\n      <td>False</td>\n    </tr>\n    <tr>\n      <th>Hoopa Confined</th>\n      <td>False</td>\n      <td>False</td>\n      <td>False</td>\n      <td>False</td>\n      <td>False</td>\n      <td>False</td>\n      <td>False</td>\n      <td>False</td>\n      <td>False</td>\n      <td>False</td>\n      <td>False</td>\n    </tr>\n    <tr>\n      <th>Hoopa Unbound</th>\n      <td>False</td>\n      <td>False</td>\n      <td>False</td>\n      <td>False</td>\n      <td>False</td>\n      <td>False</td>\n      <td>False</td>\n      <td>False</td>\n      <td>False</td>\n      <td>False</td>\n      <td>False</td>\n    </tr>\n    <tr>\n      <th>Volcanion</th>\n      <td>False</td>\n      <td>False</td>\n      <td>False</td>\n      <td>False</td>\n      <td>False</td>\n      <td>False</td>\n      <td>False</td>\n      <td>False</td>\n      <td>False</td>\n      <td>False</td>\n      <td>False</td>\n    </tr>\n  </tbody>\n</table>\n<p>800 rows × 11 columns</p>\n</div>"
     },
     "execution_count": 12,
     "metadata": {},
     "output_type": "execute_result"
    }
   ],
   "source": [
    "df.isnull()"
   ],
   "metadata": {
    "collapsed": false,
    "ExecuteTime": {
     "end_time": "2024-02-13T10:56:27.765528500Z",
     "start_time": "2024-02-13T10:56:27.513182600Z"
    }
   },
   "id": "c1d9e96f5a3cd5e1",
   "execution_count": 12
  },
  {
   "cell_type": "code",
   "outputs": [
    {
     "data": {
      "text/plain": "                  #   Type 1  Type 2  HP  Attack  Defense  Sp. Atk  Sp. Def  \\\nName                                                                          \nBulbasaur         1    Grass  Poison  45      49       49       65       65   \nIvysaur           2    Grass  Poison  60      62       63       80       80   \nVenusaur          3    Grass  Poison  80      82       83      100      100   \nMega Venusaur     4    Grass  Poison  80     100      123      122      120   \nCharizard         7     Fire  Flying  78      84       78      109       85   \n...             ...      ...     ...  ..     ...      ...      ...      ...   \nDiancie         796     Rock   Fairy  50     100      150      100      150   \nMega Diancie    797     Rock   Fairy  50     160      110      160      110   \nHoopa Confined  798  Psychic   Ghost  80     110       60      150      130   \nHoopa Unbound   799  Psychic    Dark  80     160       60      170      130   \nVolcanion       800     Fire   Water  80     110      120      130       90   \n\n                Speed  Generation  Legendary  \nName                                          \nBulbasaur          45           1      False  \nIvysaur            60           1      False  \nVenusaur           80           1      False  \nMega Venusaur      80           1      False  \nCharizard         100           1      False  \n...               ...         ...        ...  \nDiancie            50           6       True  \nMega Diancie      110           6       True  \nHoopa Confined     70           6       True  \nHoopa Unbound      80           6       True  \nVolcanion          70           6       True  \n\n[414 rows x 11 columns]",
      "text/html": "<div>\n<style scoped>\n    .dataframe tbody tr th:only-of-type {\n        vertical-align: middle;\n    }\n\n    .dataframe tbody tr th {\n        vertical-align: top;\n    }\n\n    .dataframe thead th {\n        text-align: right;\n    }\n</style>\n<table border=\"1\" class=\"dataframe\">\n  <thead>\n    <tr style=\"text-align: right;\">\n      <th></th>\n      <th>#</th>\n      <th>Type 1</th>\n      <th>Type 2</th>\n      <th>HP</th>\n      <th>Attack</th>\n      <th>Defense</th>\n      <th>Sp. Atk</th>\n      <th>Sp. Def</th>\n      <th>Speed</th>\n      <th>Generation</th>\n      <th>Legendary</th>\n    </tr>\n    <tr>\n      <th>Name</th>\n      <th></th>\n      <th></th>\n      <th></th>\n      <th></th>\n      <th></th>\n      <th></th>\n      <th></th>\n      <th></th>\n      <th></th>\n      <th></th>\n      <th></th>\n    </tr>\n  </thead>\n  <tbody>\n    <tr>\n      <th>Bulbasaur</th>\n      <td>1</td>\n      <td>Grass</td>\n      <td>Poison</td>\n      <td>45</td>\n      <td>49</td>\n      <td>49</td>\n      <td>65</td>\n      <td>65</td>\n      <td>45</td>\n      <td>1</td>\n      <td>False</td>\n    </tr>\n    <tr>\n      <th>Ivysaur</th>\n      <td>2</td>\n      <td>Grass</td>\n      <td>Poison</td>\n      <td>60</td>\n      <td>62</td>\n      <td>63</td>\n      <td>80</td>\n      <td>80</td>\n      <td>60</td>\n      <td>1</td>\n      <td>False</td>\n    </tr>\n    <tr>\n      <th>Venusaur</th>\n      <td>3</td>\n      <td>Grass</td>\n      <td>Poison</td>\n      <td>80</td>\n      <td>82</td>\n      <td>83</td>\n      <td>100</td>\n      <td>100</td>\n      <td>80</td>\n      <td>1</td>\n      <td>False</td>\n    </tr>\n    <tr>\n      <th>Mega Venusaur</th>\n      <td>4</td>\n      <td>Grass</td>\n      <td>Poison</td>\n      <td>80</td>\n      <td>100</td>\n      <td>123</td>\n      <td>122</td>\n      <td>120</td>\n      <td>80</td>\n      <td>1</td>\n      <td>False</td>\n    </tr>\n    <tr>\n      <th>Charizard</th>\n      <td>7</td>\n      <td>Fire</td>\n      <td>Flying</td>\n      <td>78</td>\n      <td>84</td>\n      <td>78</td>\n      <td>109</td>\n      <td>85</td>\n      <td>100</td>\n      <td>1</td>\n      <td>False</td>\n    </tr>\n    <tr>\n      <th>...</th>\n      <td>...</td>\n      <td>...</td>\n      <td>...</td>\n      <td>...</td>\n      <td>...</td>\n      <td>...</td>\n      <td>...</td>\n      <td>...</td>\n      <td>...</td>\n      <td>...</td>\n      <td>...</td>\n    </tr>\n    <tr>\n      <th>Diancie</th>\n      <td>796</td>\n      <td>Rock</td>\n      <td>Fairy</td>\n      <td>50</td>\n      <td>100</td>\n      <td>150</td>\n      <td>100</td>\n      <td>150</td>\n      <td>50</td>\n      <td>6</td>\n      <td>True</td>\n    </tr>\n    <tr>\n      <th>Mega Diancie</th>\n      <td>797</td>\n      <td>Rock</td>\n      <td>Fairy</td>\n      <td>50</td>\n      <td>160</td>\n      <td>110</td>\n      <td>160</td>\n      <td>110</td>\n      <td>110</td>\n      <td>6</td>\n      <td>True</td>\n    </tr>\n    <tr>\n      <th>Hoopa Confined</th>\n      <td>798</td>\n      <td>Psychic</td>\n      <td>Ghost</td>\n      <td>80</td>\n      <td>110</td>\n      <td>60</td>\n      <td>150</td>\n      <td>130</td>\n      <td>70</td>\n      <td>6</td>\n      <td>True</td>\n    </tr>\n    <tr>\n      <th>Hoopa Unbound</th>\n      <td>799</td>\n      <td>Psychic</td>\n      <td>Dark</td>\n      <td>80</td>\n      <td>160</td>\n      <td>60</td>\n      <td>170</td>\n      <td>130</td>\n      <td>80</td>\n      <td>6</td>\n      <td>True</td>\n    </tr>\n    <tr>\n      <th>Volcanion</th>\n      <td>800</td>\n      <td>Fire</td>\n      <td>Water</td>\n      <td>80</td>\n      <td>110</td>\n      <td>120</td>\n      <td>130</td>\n      <td>90</td>\n      <td>70</td>\n      <td>6</td>\n      <td>True</td>\n    </tr>\n  </tbody>\n</table>\n<p>414 rows × 11 columns</p>\n</div>"
     },
     "execution_count": 13,
     "metadata": {},
     "output_type": "execute_result"
    }
   ],
   "source": [
    "df[df['Type 2'].notna()]"
   ],
   "metadata": {
    "collapsed": false,
    "ExecuteTime": {
     "end_time": "2024-02-13T10:56:27.787527100Z",
     "start_time": "2024-02-13T10:56:27.530840400Z"
    }
   },
   "id": "72b5a7d6f2a469ad",
   "execution_count": 13
  },
  {
   "cell_type": "code",
   "outputs": [
    {
     "data": {
      "text/plain": "               Name    #   Type 1  Type 2  HP  Attack  Defense  Sp. Atk  \\\n0         Bulbasaur    1    Grass  Poison  45      49       49       65   \n1           Ivysaur    2    Grass  Poison  60      62       63       80   \n2          Venusaur    3    Grass  Poison  80      82       83      100   \n3     Mega Venusaur    4    Grass  Poison  80     100      123      122   \n4        Charmander    5     Fire     NaN  39      52       43       60   \n..              ...  ...      ...     ...  ..     ...      ...      ...   \n795         Diancie  796     Rock   Fairy  50     100      150      100   \n796    Mega Diancie  797     Rock   Fairy  50     160      110      160   \n797  Hoopa Confined  798  Psychic   Ghost  80     110       60      150   \n798   Hoopa Unbound  799  Psychic    Dark  80     160       60      170   \n799       Volcanion  800     Fire   Water  80     110      120      130   \n\n     Sp. Def  Speed  Generation  Legendary  \n0         65     45           1      False  \n1         80     60           1      False  \n2        100     80           1      False  \n3        120     80           1      False  \n4         50     65           1      False  \n..       ...    ...         ...        ...  \n795      150     50           6       True  \n796      110    110           6       True  \n797      130     70           6       True  \n798      130     80           6       True  \n799       90     70           6       True  \n\n[800 rows x 12 columns]",
      "text/html": "<div>\n<style scoped>\n    .dataframe tbody tr th:only-of-type {\n        vertical-align: middle;\n    }\n\n    .dataframe tbody tr th {\n        vertical-align: top;\n    }\n\n    .dataframe thead th {\n        text-align: right;\n    }\n</style>\n<table border=\"1\" class=\"dataframe\">\n  <thead>\n    <tr style=\"text-align: right;\">\n      <th></th>\n      <th>Name</th>\n      <th>#</th>\n      <th>Type 1</th>\n      <th>Type 2</th>\n      <th>HP</th>\n      <th>Attack</th>\n      <th>Defense</th>\n      <th>Sp. Atk</th>\n      <th>Sp. Def</th>\n      <th>Speed</th>\n      <th>Generation</th>\n      <th>Legendary</th>\n    </tr>\n  </thead>\n  <tbody>\n    <tr>\n      <th>0</th>\n      <td>Bulbasaur</td>\n      <td>1</td>\n      <td>Grass</td>\n      <td>Poison</td>\n      <td>45</td>\n      <td>49</td>\n      <td>49</td>\n      <td>65</td>\n      <td>65</td>\n      <td>45</td>\n      <td>1</td>\n      <td>False</td>\n    </tr>\n    <tr>\n      <th>1</th>\n      <td>Ivysaur</td>\n      <td>2</td>\n      <td>Grass</td>\n      <td>Poison</td>\n      <td>60</td>\n      <td>62</td>\n      <td>63</td>\n      <td>80</td>\n      <td>80</td>\n      <td>60</td>\n      <td>1</td>\n      <td>False</td>\n    </tr>\n    <tr>\n      <th>2</th>\n      <td>Venusaur</td>\n      <td>3</td>\n      <td>Grass</td>\n      <td>Poison</td>\n      <td>80</td>\n      <td>82</td>\n      <td>83</td>\n      <td>100</td>\n      <td>100</td>\n      <td>80</td>\n      <td>1</td>\n      <td>False</td>\n    </tr>\n    <tr>\n      <th>3</th>\n      <td>Mega Venusaur</td>\n      <td>4</td>\n      <td>Grass</td>\n      <td>Poison</td>\n      <td>80</td>\n      <td>100</td>\n      <td>123</td>\n      <td>122</td>\n      <td>120</td>\n      <td>80</td>\n      <td>1</td>\n      <td>False</td>\n    </tr>\n    <tr>\n      <th>4</th>\n      <td>Charmander</td>\n      <td>5</td>\n      <td>Fire</td>\n      <td>NaN</td>\n      <td>39</td>\n      <td>52</td>\n      <td>43</td>\n      <td>60</td>\n      <td>50</td>\n      <td>65</td>\n      <td>1</td>\n      <td>False</td>\n    </tr>\n    <tr>\n      <th>...</th>\n      <td>...</td>\n      <td>...</td>\n      <td>...</td>\n      <td>...</td>\n      <td>...</td>\n      <td>...</td>\n      <td>...</td>\n      <td>...</td>\n      <td>...</td>\n      <td>...</td>\n      <td>...</td>\n      <td>...</td>\n    </tr>\n    <tr>\n      <th>795</th>\n      <td>Diancie</td>\n      <td>796</td>\n      <td>Rock</td>\n      <td>Fairy</td>\n      <td>50</td>\n      <td>100</td>\n      <td>150</td>\n      <td>100</td>\n      <td>150</td>\n      <td>50</td>\n      <td>6</td>\n      <td>True</td>\n    </tr>\n    <tr>\n      <th>796</th>\n      <td>Mega Diancie</td>\n      <td>797</td>\n      <td>Rock</td>\n      <td>Fairy</td>\n      <td>50</td>\n      <td>160</td>\n      <td>110</td>\n      <td>160</td>\n      <td>110</td>\n      <td>110</td>\n      <td>6</td>\n      <td>True</td>\n    </tr>\n    <tr>\n      <th>797</th>\n      <td>Hoopa Confined</td>\n      <td>798</td>\n      <td>Psychic</td>\n      <td>Ghost</td>\n      <td>80</td>\n      <td>110</td>\n      <td>60</td>\n      <td>150</td>\n      <td>130</td>\n      <td>70</td>\n      <td>6</td>\n      <td>True</td>\n    </tr>\n    <tr>\n      <th>798</th>\n      <td>Hoopa Unbound</td>\n      <td>799</td>\n      <td>Psychic</td>\n      <td>Dark</td>\n      <td>80</td>\n      <td>160</td>\n      <td>60</td>\n      <td>170</td>\n      <td>130</td>\n      <td>80</td>\n      <td>6</td>\n      <td>True</td>\n    </tr>\n    <tr>\n      <th>799</th>\n      <td>Volcanion</td>\n      <td>800</td>\n      <td>Fire</td>\n      <td>Water</td>\n      <td>80</td>\n      <td>110</td>\n      <td>120</td>\n      <td>130</td>\n      <td>90</td>\n      <td>70</td>\n      <td>6</td>\n      <td>True</td>\n    </tr>\n  </tbody>\n</table>\n<p>800 rows × 12 columns</p>\n</div>"
     },
     "execution_count": 14,
     "metadata": {},
     "output_type": "execute_result"
    }
   ],
   "source": [
    "df.reset_index(inplace=True)\n",
    "df"
   ],
   "metadata": {
    "collapsed": false,
    "ExecuteTime": {
     "end_time": "2024-02-13T10:56:27.853529100Z",
     "start_time": "2024-02-13T10:56:27.544604900Z"
    }
   },
   "id": "de7e466df3da43b2",
   "execution_count": 14
  },
  {
   "cell_type": "code",
   "outputs": [],
   "source": [
    "df['Attack per minute'] = df['Attack'] * df['Sp. Atk']"
   ],
   "metadata": {
    "collapsed": false,
    "ExecuteTime": {
     "end_time": "2024-02-13T10:56:27.854524200Z",
     "start_time": "2024-02-13T10:56:27.567011500Z"
    }
   },
   "id": "1e54377020bbfa1",
   "execution_count": 15
  },
  {
   "cell_type": "code",
   "outputs": [
    {
     "data": {
      "text/plain": "               Name    #   Type 1  Type 2  HP  Attack  Defense  Sp. Atk  \\\n0         Bulbasaur    1    Grass  Poison  45      49       49       65   \n1           Ivysaur    2    Grass  Poison  60      62       63       80   \n2          Venusaur    3    Grass  Poison  80      82       83      100   \n3     Mega Venusaur    4    Grass  Poison  80     100      123      122   \n4        Charmander    5     Fire     NaN  39      52       43       60   \n..              ...  ...      ...     ...  ..     ...      ...      ...   \n795         Diancie  796     Rock   Fairy  50     100      150      100   \n796    Mega Diancie  797     Rock   Fairy  50     160      110      160   \n797  Hoopa Confined  798  Psychic   Ghost  80     110       60      150   \n798   Hoopa Unbound  799  Psychic    Dark  80     160       60      170   \n799       Volcanion  800     Fire   Water  80     110      120      130   \n\n     Sp. Def  Speed  Generation  Legendary  Attack per minute  \\\n0         65     45           1      False               3185   \n1         80     60           1      False               4960   \n2        100     80           1      False               8200   \n3        120     80           1      False              12200   \n4         50     65           1      False               3120   \n..       ...    ...         ...        ...                ...   \n795      150     50           6       True              10000   \n796      110    110           6       True              25600   \n797      130     70           6       True              16500   \n798      130     80           6       True              27200   \n799       90     70           6       True              14300   \n\n     Attack per minute_2  \n0                   3185  \n1                   4960  \n2                   8200  \n3                  12200  \n4                   3120  \n..                   ...  \n795                10000  \n796                25600  \n797                16500  \n798                27200  \n799                14300  \n\n[800 rows x 14 columns]",
      "text/html": "<div>\n<style scoped>\n    .dataframe tbody tr th:only-of-type {\n        vertical-align: middle;\n    }\n\n    .dataframe tbody tr th {\n        vertical-align: top;\n    }\n\n    .dataframe thead th {\n        text-align: right;\n    }\n</style>\n<table border=\"1\" class=\"dataframe\">\n  <thead>\n    <tr style=\"text-align: right;\">\n      <th></th>\n      <th>Name</th>\n      <th>#</th>\n      <th>Type 1</th>\n      <th>Type 2</th>\n      <th>HP</th>\n      <th>Attack</th>\n      <th>Defense</th>\n      <th>Sp. Atk</th>\n      <th>Sp. Def</th>\n      <th>Speed</th>\n      <th>Generation</th>\n      <th>Legendary</th>\n      <th>Attack per minute</th>\n      <th>Attack per minute_2</th>\n    </tr>\n  </thead>\n  <tbody>\n    <tr>\n      <th>0</th>\n      <td>Bulbasaur</td>\n      <td>1</td>\n      <td>Grass</td>\n      <td>Poison</td>\n      <td>45</td>\n      <td>49</td>\n      <td>49</td>\n      <td>65</td>\n      <td>65</td>\n      <td>45</td>\n      <td>1</td>\n      <td>False</td>\n      <td>3185</td>\n      <td>3185</td>\n    </tr>\n    <tr>\n      <th>1</th>\n      <td>Ivysaur</td>\n      <td>2</td>\n      <td>Grass</td>\n      <td>Poison</td>\n      <td>60</td>\n      <td>62</td>\n      <td>63</td>\n      <td>80</td>\n      <td>80</td>\n      <td>60</td>\n      <td>1</td>\n      <td>False</td>\n      <td>4960</td>\n      <td>4960</td>\n    </tr>\n    <tr>\n      <th>2</th>\n      <td>Venusaur</td>\n      <td>3</td>\n      <td>Grass</td>\n      <td>Poison</td>\n      <td>80</td>\n      <td>82</td>\n      <td>83</td>\n      <td>100</td>\n      <td>100</td>\n      <td>80</td>\n      <td>1</td>\n      <td>False</td>\n      <td>8200</td>\n      <td>8200</td>\n    </tr>\n    <tr>\n      <th>3</th>\n      <td>Mega Venusaur</td>\n      <td>4</td>\n      <td>Grass</td>\n      <td>Poison</td>\n      <td>80</td>\n      <td>100</td>\n      <td>123</td>\n      <td>122</td>\n      <td>120</td>\n      <td>80</td>\n      <td>1</td>\n      <td>False</td>\n      <td>12200</td>\n      <td>12200</td>\n    </tr>\n    <tr>\n      <th>4</th>\n      <td>Charmander</td>\n      <td>5</td>\n      <td>Fire</td>\n      <td>NaN</td>\n      <td>39</td>\n      <td>52</td>\n      <td>43</td>\n      <td>60</td>\n      <td>50</td>\n      <td>65</td>\n      <td>1</td>\n      <td>False</td>\n      <td>3120</td>\n      <td>3120</td>\n    </tr>\n    <tr>\n      <th>...</th>\n      <td>...</td>\n      <td>...</td>\n      <td>...</td>\n      <td>...</td>\n      <td>...</td>\n      <td>...</td>\n      <td>...</td>\n      <td>...</td>\n      <td>...</td>\n      <td>...</td>\n      <td>...</td>\n      <td>...</td>\n      <td>...</td>\n      <td>...</td>\n    </tr>\n    <tr>\n      <th>795</th>\n      <td>Diancie</td>\n      <td>796</td>\n      <td>Rock</td>\n      <td>Fairy</td>\n      <td>50</td>\n      <td>100</td>\n      <td>150</td>\n      <td>100</td>\n      <td>150</td>\n      <td>50</td>\n      <td>6</td>\n      <td>True</td>\n      <td>10000</td>\n      <td>10000</td>\n    </tr>\n    <tr>\n      <th>796</th>\n      <td>Mega Diancie</td>\n      <td>797</td>\n      <td>Rock</td>\n      <td>Fairy</td>\n      <td>50</td>\n      <td>160</td>\n      <td>110</td>\n      <td>160</td>\n      <td>110</td>\n      <td>110</td>\n      <td>6</td>\n      <td>True</td>\n      <td>25600</td>\n      <td>25600</td>\n    </tr>\n    <tr>\n      <th>797</th>\n      <td>Hoopa Confined</td>\n      <td>798</td>\n      <td>Psychic</td>\n      <td>Ghost</td>\n      <td>80</td>\n      <td>110</td>\n      <td>60</td>\n      <td>150</td>\n      <td>130</td>\n      <td>70</td>\n      <td>6</td>\n      <td>True</td>\n      <td>16500</td>\n      <td>16500</td>\n    </tr>\n    <tr>\n      <th>798</th>\n      <td>Hoopa Unbound</td>\n      <td>799</td>\n      <td>Psychic</td>\n      <td>Dark</td>\n      <td>80</td>\n      <td>160</td>\n      <td>60</td>\n      <td>170</td>\n      <td>130</td>\n      <td>80</td>\n      <td>6</td>\n      <td>True</td>\n      <td>27200</td>\n      <td>27200</td>\n    </tr>\n    <tr>\n      <th>799</th>\n      <td>Volcanion</td>\n      <td>800</td>\n      <td>Fire</td>\n      <td>Water</td>\n      <td>80</td>\n      <td>110</td>\n      <td>120</td>\n      <td>130</td>\n      <td>90</td>\n      <td>70</td>\n      <td>6</td>\n      <td>True</td>\n      <td>14300</td>\n      <td>14300</td>\n    </tr>\n  </tbody>\n</table>\n<p>800 rows × 14 columns</p>\n</div>"
     },
     "execution_count": 16,
     "metadata": {},
     "output_type": "execute_result"
    }
   ],
   "source": [
    "df['Attack per minute_2'] = df.apply(lambda row: row['Attack'] * row['Sp. Atk'], axis=1)\n",
    "df"
   ],
   "metadata": {
    "collapsed": false,
    "ExecuteTime": {
     "end_time": "2024-02-13T10:56:27.966229500Z",
     "start_time": "2024-02-13T10:56:27.610747800Z"
    }
   },
   "id": "ef81b7c786c02160",
   "execution_count": 16
  },
  {
   "cell_type": "code",
   "outputs": [
    {
     "data": {
      "text/plain": "                 mean attack  count pokemon\nType 1 Type 2                              \nBug    Electric  5074.000000              2\n       Fighting  6200.000000              2\n       Fire      6175.000000              2\n       Flying    5264.785714             14\n       Ghost     2700.000000              1\n...                      ...            ...\nWater  Ice       6733.333333              3\n       Poison    4275.000000              3\n       Psychic   6970.000000              5\n       Rock      5180.750000              4\n       Steel     9546.000000              1\n\n[136 rows x 2 columns]",
      "text/html": "<div>\n<style scoped>\n    .dataframe tbody tr th:only-of-type {\n        vertical-align: middle;\n    }\n\n    .dataframe tbody tr th {\n        vertical-align: top;\n    }\n\n    .dataframe thead th {\n        text-align: right;\n    }\n</style>\n<table border=\"1\" class=\"dataframe\">\n  <thead>\n    <tr style=\"text-align: right;\">\n      <th></th>\n      <th></th>\n      <th>mean attack</th>\n      <th>count pokemon</th>\n    </tr>\n    <tr>\n      <th>Type 1</th>\n      <th>Type 2</th>\n      <th></th>\n      <th></th>\n    </tr>\n  </thead>\n  <tbody>\n    <tr>\n      <th rowspan=\"5\" valign=\"top\">Bug</th>\n      <th>Electric</th>\n      <td>5074.000000</td>\n      <td>2</td>\n    </tr>\n    <tr>\n      <th>Fighting</th>\n      <td>6200.000000</td>\n      <td>2</td>\n    </tr>\n    <tr>\n      <th>Fire</th>\n      <td>6175.000000</td>\n      <td>2</td>\n    </tr>\n    <tr>\n      <th>Flying</th>\n      <td>5264.785714</td>\n      <td>14</td>\n    </tr>\n    <tr>\n      <th>Ghost</th>\n      <td>2700.000000</td>\n      <td>1</td>\n    </tr>\n    <tr>\n      <th>...</th>\n      <th>...</th>\n      <td>...</td>\n      <td>...</td>\n    </tr>\n    <tr>\n      <th rowspan=\"5\" valign=\"top\">Water</th>\n      <th>Ice</th>\n      <td>6733.333333</td>\n      <td>3</td>\n    </tr>\n    <tr>\n      <th>Poison</th>\n      <td>4275.000000</td>\n      <td>3</td>\n    </tr>\n    <tr>\n      <th>Psychic</th>\n      <td>6970.000000</td>\n      <td>5</td>\n    </tr>\n    <tr>\n      <th>Rock</th>\n      <td>5180.750000</td>\n      <td>4</td>\n    </tr>\n    <tr>\n      <th>Steel</th>\n      <td>9546.000000</td>\n      <td>1</td>\n    </tr>\n  </tbody>\n</table>\n<p>136 rows × 2 columns</p>\n</div>"
     },
     "execution_count": 17,
     "metadata": {},
     "output_type": "execute_result"
    }
   ],
   "source": [
    "df.groupby(['Type 1', 'Type 2']).agg({'Attack per minute': 'mean', 'Name': 'count'}).rename(\n",
    "    columns={'Attack per minute': 'mean attack', 'Name': 'count pokemon'})"
   ],
   "metadata": {
    "collapsed": false,
    "ExecuteTime": {
     "end_time": "2024-02-13T10:56:37.220590900Z",
     "start_time": "2024-02-13T10:56:37.144261200Z"
    }
   },
   "id": "7f279eeca8e519a7",
   "execution_count": 17
  },
  {
   "cell_type": "code",
   "outputs": [],
   "source": [
    "# Создание DataFrame с пропущенными значениями\n",
    "data = {'A': [1, 2, np.nan, 4, 4],\n",
    "        'B': [5, np.nan, 7, 8, 8]}\n",
    "df = pd.DataFrame(data)\n",
    "\n",
    "# Заполнение пропущенных значений средним значением\n",
    "df_filled = df.fillna(df.mean())\n",
    "\n",
    "# Удаление строк с пропущенными значениями\n",
    "df_dropped = df.dropna()\n",
    "\n",
    "# Обнаружение и удаление дубликатов\n",
    "df_no_duplicates = df.drop_duplicates()\n",
    "\n",
    "# Обработка выбросов\n",
    "Q1 = df['A'].quantile(0.25)\n",
    "Q3 = df['A'].quantile(0.75)\n",
    "IQR = Q3 - Q1\n",
    "df_no_outliers = df[(df['A'] > Q1 - 1.5 * IQR) & (df['A'] < Q3 + 1.5 * IQR)]"
   ],
   "metadata": {
    "collapsed": false,
    "ExecuteTime": {
     "end_time": "2024-02-13T11:42:10.420512700Z",
     "start_time": "2024-02-13T11:42:10.411460Z"
    }
   },
   "id": "ff001d52ddc3b4c1",
   "execution_count": 53
  },
  {
   "cell_type": "code",
   "outputs": [
    {
     "data": {
      "text/plain": "     A    B\n0  1.0  5.0\n1  2.0  NaN\n2  NaN  7.0\n3  4.0  8.0\n4  4.0  8.0",
      "text/html": "<div>\n<style scoped>\n    .dataframe tbody tr th:only-of-type {\n        vertical-align: middle;\n    }\n\n    .dataframe tbody tr th {\n        vertical-align: top;\n    }\n\n    .dataframe thead th {\n        text-align: right;\n    }\n</style>\n<table border=\"1\" class=\"dataframe\">\n  <thead>\n    <tr style=\"text-align: right;\">\n      <th></th>\n      <th>A</th>\n      <th>B</th>\n    </tr>\n  </thead>\n  <tbody>\n    <tr>\n      <th>0</th>\n      <td>1.0</td>\n      <td>5.0</td>\n    </tr>\n    <tr>\n      <th>1</th>\n      <td>2.0</td>\n      <td>NaN</td>\n    </tr>\n    <tr>\n      <th>2</th>\n      <td>NaN</td>\n      <td>7.0</td>\n    </tr>\n    <tr>\n      <th>3</th>\n      <td>4.0</td>\n      <td>8.0</td>\n    </tr>\n    <tr>\n      <th>4</th>\n      <td>4.0</td>\n      <td>8.0</td>\n    </tr>\n  </tbody>\n</table>\n</div>"
     },
     "execution_count": 19,
     "metadata": {},
     "output_type": "execute_result"
    }
   ],
   "source": [
    "df"
   ],
   "metadata": {
    "collapsed": false,
    "ExecuteTime": {
     "end_time": "2024-02-13T10:56:41.569601700Z",
     "start_time": "2024-02-13T10:56:41.553436600Z"
    }
   },
   "id": "5da740c8f85192e3",
   "execution_count": 19
  },
  {
   "cell_type": "code",
   "outputs": [
    {
     "data": {
      "text/plain": "      A    B\n0  1.00  5.0\n1  2.00  7.0\n2  2.75  7.0\n3  4.00  8.0\n4  4.00  8.0",
      "text/html": "<div>\n<style scoped>\n    .dataframe tbody tr th:only-of-type {\n        vertical-align: middle;\n    }\n\n    .dataframe tbody tr th {\n        vertical-align: top;\n    }\n\n    .dataframe thead th {\n        text-align: right;\n    }\n</style>\n<table border=\"1\" class=\"dataframe\">\n  <thead>\n    <tr style=\"text-align: right;\">\n      <th></th>\n      <th>A</th>\n      <th>B</th>\n    </tr>\n  </thead>\n  <tbody>\n    <tr>\n      <th>0</th>\n      <td>1.00</td>\n      <td>5.0</td>\n    </tr>\n    <tr>\n      <th>1</th>\n      <td>2.00</td>\n      <td>7.0</td>\n    </tr>\n    <tr>\n      <th>2</th>\n      <td>2.75</td>\n      <td>7.0</td>\n    </tr>\n    <tr>\n      <th>3</th>\n      <td>4.00</td>\n      <td>8.0</td>\n    </tr>\n    <tr>\n      <th>4</th>\n      <td>4.00</td>\n      <td>8.0</td>\n    </tr>\n  </tbody>\n</table>\n</div>"
     },
     "execution_count": 20,
     "metadata": {},
     "output_type": "execute_result"
    }
   ],
   "source": [
    "df_filled"
   ],
   "metadata": {
    "collapsed": false,
    "ExecuteTime": {
     "end_time": "2024-02-13T10:56:42.136064300Z",
     "start_time": "2024-02-13T10:56:42.120007300Z"
    }
   },
   "id": "18fd503585911d94",
   "execution_count": 20
  },
  {
   "cell_type": "code",
   "outputs": [
    {
     "data": {
      "text/plain": "     A    B\n0  1.0  5.0\n3  4.0  8.0\n4  4.0  8.0",
      "text/html": "<div>\n<style scoped>\n    .dataframe tbody tr th:only-of-type {\n        vertical-align: middle;\n    }\n\n    .dataframe tbody tr th {\n        vertical-align: top;\n    }\n\n    .dataframe thead th {\n        text-align: right;\n    }\n</style>\n<table border=\"1\" class=\"dataframe\">\n  <thead>\n    <tr style=\"text-align: right;\">\n      <th></th>\n      <th>A</th>\n      <th>B</th>\n    </tr>\n  </thead>\n  <tbody>\n    <tr>\n      <th>0</th>\n      <td>1.0</td>\n      <td>5.0</td>\n    </tr>\n    <tr>\n      <th>3</th>\n      <td>4.0</td>\n      <td>8.0</td>\n    </tr>\n    <tr>\n      <th>4</th>\n      <td>4.0</td>\n      <td>8.0</td>\n    </tr>\n  </tbody>\n</table>\n</div>"
     },
     "execution_count": 21,
     "metadata": {},
     "output_type": "execute_result"
    }
   ],
   "source": [
    "df_dropped"
   ],
   "metadata": {
    "collapsed": false,
    "ExecuteTime": {
     "end_time": "2024-02-13T10:56:43.184735800Z",
     "start_time": "2024-02-13T10:56:43.165566600Z"
    }
   },
   "id": "6a7182a61dbf440e",
   "execution_count": 21
  },
  {
   "cell_type": "code",
   "outputs": [
    {
     "data": {
      "text/plain": "     A    B\n0  1.0  5.0\n1  2.0  NaN\n3  4.0  8.0\n4  4.0  8.0",
      "text/html": "<div>\n<style scoped>\n    .dataframe tbody tr th:only-of-type {\n        vertical-align: middle;\n    }\n\n    .dataframe tbody tr th {\n        vertical-align: top;\n    }\n\n    .dataframe thead th {\n        text-align: right;\n    }\n</style>\n<table border=\"1\" class=\"dataframe\">\n  <thead>\n    <tr style=\"text-align: right;\">\n      <th></th>\n      <th>A</th>\n      <th>B</th>\n    </tr>\n  </thead>\n  <tbody>\n    <tr>\n      <th>0</th>\n      <td>1.0</td>\n      <td>5.0</td>\n    </tr>\n    <tr>\n      <th>1</th>\n      <td>2.0</td>\n      <td>NaN</td>\n    </tr>\n    <tr>\n      <th>3</th>\n      <td>4.0</td>\n      <td>8.0</td>\n    </tr>\n    <tr>\n      <th>4</th>\n      <td>4.0</td>\n      <td>8.0</td>\n    </tr>\n  </tbody>\n</table>\n</div>"
     },
     "execution_count": 54,
     "metadata": {},
     "output_type": "execute_result"
    }
   ],
   "source": [
    "df.dropna(subset=['A'])"
   ],
   "metadata": {
    "collapsed": false,
    "ExecuteTime": {
     "end_time": "2024-02-13T11:42:13.675597100Z",
     "start_time": "2024-02-13T11:42:13.661597900Z"
    }
   },
   "id": "d283ff665f9cec05",
   "execution_count": 54
  },
  {
   "cell_type": "code",
   "outputs": [
    {
     "data": {
      "text/plain": "     A    B\n0  1.0  5.0\n1  2.0  NaN\n2  NaN  7.0\n3  4.0  8.0",
      "text/html": "<div>\n<style scoped>\n    .dataframe tbody tr th:only-of-type {\n        vertical-align: middle;\n    }\n\n    .dataframe tbody tr th {\n        vertical-align: top;\n    }\n\n    .dataframe thead th {\n        text-align: right;\n    }\n</style>\n<table border=\"1\" class=\"dataframe\">\n  <thead>\n    <tr style=\"text-align: right;\">\n      <th></th>\n      <th>A</th>\n      <th>B</th>\n    </tr>\n  </thead>\n  <tbody>\n    <tr>\n      <th>0</th>\n      <td>1.0</td>\n      <td>5.0</td>\n    </tr>\n    <tr>\n      <th>1</th>\n      <td>2.0</td>\n      <td>NaN</td>\n    </tr>\n    <tr>\n      <th>2</th>\n      <td>NaN</td>\n      <td>7.0</td>\n    </tr>\n    <tr>\n      <th>3</th>\n      <td>4.0</td>\n      <td>8.0</td>\n    </tr>\n  </tbody>\n</table>\n</div>"
     },
     "execution_count": 22,
     "metadata": {},
     "output_type": "execute_result"
    }
   ],
   "source": [
    "df_no_duplicates"
   ],
   "metadata": {
    "collapsed": false,
    "ExecuteTime": {
     "end_time": "2024-02-13T10:56:43.633707900Z",
     "start_time": "2024-02-13T10:56:43.594763500Z"
    }
   },
   "id": "4e7c0d238c06a77b",
   "execution_count": 22
  },
  {
   "cell_type": "code",
   "outputs": [
    {
     "data": {
      "text/plain": "     A    B\n0  1.0  5.0\n1  2.0  NaN\n3  4.0  8.0\n4  4.0  8.0",
      "text/html": "<div>\n<style scoped>\n    .dataframe tbody tr th:only-of-type {\n        vertical-align: middle;\n    }\n\n    .dataframe tbody tr th {\n        vertical-align: top;\n    }\n\n    .dataframe thead th {\n        text-align: right;\n    }\n</style>\n<table border=\"1\" class=\"dataframe\">\n  <thead>\n    <tr style=\"text-align: right;\">\n      <th></th>\n      <th>A</th>\n      <th>B</th>\n    </tr>\n  </thead>\n  <tbody>\n    <tr>\n      <th>0</th>\n      <td>1.0</td>\n      <td>5.0</td>\n    </tr>\n    <tr>\n      <th>1</th>\n      <td>2.0</td>\n      <td>NaN</td>\n    </tr>\n    <tr>\n      <th>3</th>\n      <td>4.0</td>\n      <td>8.0</td>\n    </tr>\n    <tr>\n      <th>4</th>\n      <td>4.0</td>\n      <td>8.0</td>\n    </tr>\n  </tbody>\n</table>\n</div>"
     },
     "execution_count": 23,
     "metadata": {},
     "output_type": "execute_result"
    }
   ],
   "source": [
    "df_no_outliers"
   ],
   "metadata": {
    "collapsed": false,
    "ExecuteTime": {
     "end_time": "2024-02-13T10:56:44.396979200Z",
     "start_time": "2024-02-13T10:56:44.327174900Z"
    }
   },
   "id": "5436dd6c97b83448",
   "execution_count": 23
  },
  {
   "cell_type": "code",
   "outputs": [],
   "source": [
    "# Создание DataFrame с большим количеством данных\n",
    "df = pd.DataFrame({'A': range(1000000), 'B': range(1000000)})"
   ],
   "metadata": {
    "collapsed": false,
    "ExecuteTime": {
     "end_time": "2024-02-13T10:56:44.841354400Z",
     "start_time": "2024-02-13T10:56:44.809645100Z"
    }
   },
   "id": "55b51d13a989ab4e",
   "execution_count": 24
  },
  {
   "cell_type": "code",
   "outputs": [
    {
     "name": "stdout",
     "output_type": "stream",
     "text": [
      "6.45 ms ± 2.02 ms per loop (mean ± std. dev. of 7 runs, 100 loops each)\n"
     ]
    }
   ],
   "source": [
    "%%timeit\n",
    "# Использование векторизованных операций для вычисления нового столбца\n",
    "df['C'] = df['A'] + df['B']"
   ],
   "metadata": {
    "collapsed": false,
    "ExecuteTime": {
     "end_time": "2024-02-13T10:56:51.011130300Z",
     "start_time": "2024-02-13T10:56:45.828067900Z"
    }
   },
   "id": "49899972436e4766",
   "execution_count": 25
  },
  {
   "cell_type": "code",
   "outputs": [
    {
     "name": "stdout",
     "output_type": "stream",
     "text": [
      "260 ms ± 18.7 ms per loop (mean ± std. dev. of 7 runs, 1 loop each)\n"
     ]
    }
   ],
   "source": [
    "%%timeit\n",
    "# Использование метода apply с функцией lambda\n",
    "df['D'] = df['C'].apply(lambda x: x * 2)"
   ],
   "metadata": {
    "collapsed": false,
    "ExecuteTime": {
     "end_time": "2024-02-13T10:56:53.157297800Z",
     "start_time": "2024-02-13T10:56:51.013130100Z"
    }
   },
   "id": "3678f7a6bef5d0fc",
   "execution_count": 26
  },
  {
   "cell_type": "code",
   "outputs": [
    {
     "name": "stdout",
     "output_type": "stream",
     "text": [
      "3.77 ms ± 161 µs per loop (mean ± std. dev. of 7 runs, 100 loops each)\n"
     ]
    }
   ],
   "source": [
    "%%timeit\n",
    "# Оптимизированное использование метода apply с векторизованными операциями\n",
    "df['E'] = df['C'] * 2"
   ],
   "metadata": {
    "collapsed": false,
    "ExecuteTime": {
     "end_time": "2024-02-13T10:56:56.263252500Z",
     "start_time": "2024-02-13T10:56:53.158299Z"
    }
   },
   "id": "542ca235743d10f7",
   "execution_count": 27
  },
  {
   "cell_type": "code",
   "outputs": [],
   "source": [
    "# Создание Dask массива\n",
    "arr = da.random.random((100000, 100000), chunks=(1000, 1000))"
   ],
   "metadata": {
    "collapsed": false,
    "ExecuteTime": {
     "end_time": "2024-02-13T11:56:52.609020900Z",
     "start_time": "2024-02-13T11:56:52.374995200Z"
    }
   },
   "id": "cd4546eb40d317f3",
   "execution_count": 55
  },
  {
   "cell_type": "code",
   "outputs": [],
   "source": [
    "# Создание Dask массива\n",
    "arr = da.random.random((10000, 10000), chunks=(1000, 1000))"
   ],
   "metadata": {
    "collapsed": false,
    "ExecuteTime": {
     "end_time": "2024-02-13T11:57:01.956789200Z",
     "start_time": "2024-02-13T11:57:01.943588700Z"
    }
   },
   "id": "6c51edffbab8d920",
   "execution_count": 56
  },
  {
   "cell_type": "code",
   "outputs": [
    {
     "ename": "MemoryError",
     "evalue": "Unable to allocate 74.5 GiB for an array with shape (100000, 100000) and data type float64",
     "output_type": "error",
     "traceback": [
      "\u001B[1;31m---------------------------------------------------------------------------\u001B[0m",
      "\u001B[1;31mMemoryError\u001B[0m                               Traceback (most recent call last)",
      "Cell \u001B[1;32mIn[57], line 2\u001B[0m\n\u001B[0;32m      1\u001B[0m \u001B[38;5;66;03m# Создание Numpy массива\u001B[39;00m\n\u001B[1;32m----> 2\u001B[0m arr_2 \u001B[38;5;241m=\u001B[39m \u001B[43mnp\u001B[49m\u001B[38;5;241;43m.\u001B[39;49m\u001B[43mrandom\u001B[49m\u001B[38;5;241;43m.\u001B[39;49m\u001B[43mrandom\u001B[49m\u001B[43m(\u001B[49m\u001B[43m(\u001B[49m\u001B[38;5;241;43m100000\u001B[39;49m\u001B[43m,\u001B[49m\u001B[43m \u001B[49m\u001B[38;5;241;43m100000\u001B[39;49m\u001B[43m)\u001B[49m\u001B[43m)\u001B[49m\n",
      "File \u001B[1;32mnumpy\\\\random\\\\mtrand.pyx:446\u001B[0m, in \u001B[0;36mnumpy.random.mtrand.RandomState.random\u001B[1;34m()\u001B[0m\n",
      "File \u001B[1;32mnumpy\\\\random\\\\mtrand.pyx:437\u001B[0m, in \u001B[0;36mnumpy.random.mtrand.RandomState.random_sample\u001B[1;34m()\u001B[0m\n",
      "File \u001B[1;32m_common.pyx:307\u001B[0m, in \u001B[0;36mnumpy.random._common.double_fill\u001B[1;34m()\u001B[0m\n",
      "\u001B[1;31mMemoryError\u001B[0m: Unable to allocate 74.5 GiB for an array with shape (100000, 100000) and data type float64"
     ]
    }
   ],
   "source": [
    "# Создание Numpy массива\n",
    "arr_2 = np.random.random((100000, 100000))"
   ],
   "metadata": {
    "collapsed": false,
    "ExecuteTime": {
     "end_time": "2024-02-13T11:57:12.149742700Z",
     "start_time": "2024-02-13T11:57:12.114495900Z"
    }
   },
   "id": "1f0e98fa0fd67907",
   "execution_count": 57
  },
  {
   "cell_type": "code",
   "outputs": [],
   "source": [
    "# Создание Numpy массива\n",
    "arr_2 = np.random.random((10000, 10000))"
   ],
   "metadata": {
    "collapsed": false,
    "ExecuteTime": {
     "end_time": "2024-02-13T12:05:36.990306300Z",
     "start_time": "2024-02-13T12:05:35.209366400Z"
    }
   },
   "id": "fdd0624ea79cf687",
   "execution_count": 2
  },
  {
   "cell_type": "code",
   "outputs": [
    {
     "data": {
      "text/plain": "array([0.50100887, 0.50397731, 0.50021858, ..., 0.49673553, 0.50017029,\n       0.49837129])"
     },
     "execution_count": 32,
     "metadata": {},
     "output_type": "execute_result"
    }
   ],
   "source": [
    "result = arr.mean(axis=0).compute()\n",
    "result"
   ],
   "metadata": {
    "collapsed": false,
    "ExecuteTime": {
     "end_time": "2024-02-13T10:57:00.383245400Z",
     "start_time": "2024-02-13T10:57:00.135420400Z"
    }
   },
   "id": "e173359fa3e3817d",
   "execution_count": 32
  },
  {
   "cell_type": "code",
   "outputs": [
    {
     "data": {
      "text/plain": "array([0.491588  , 0.50316601, 0.5005972 , ..., 0.50096286, 0.49692722,\n       0.49483462])"
     },
     "execution_count": 33,
     "metadata": {},
     "output_type": "execute_result"
    }
   ],
   "source": [
    "result_2 = arr_2.mean(axis=0)\n",
    "result_2"
   ],
   "metadata": {
    "collapsed": false,
    "ExecuteTime": {
     "end_time": "2024-02-13T10:57:06.716605500Z",
     "start_time": "2024-02-13T10:57:06.653346600Z"
    }
   },
   "id": "670fff37b6e5c2f9",
   "execution_count": 33
  },
  {
   "cell_type": "code",
   "outputs": [],
   "source": [
    "df_p = pl.DataFrame(arr_2)"
   ],
   "metadata": {
    "collapsed": false,
    "ExecuteTime": {
     "end_time": "2024-02-13T12:05:50.149635300Z",
     "start_time": "2024-02-13T12:05:47.064368600Z"
    }
   },
   "id": "7de445e4988699c1",
   "execution_count": 3
  },
  {
   "cell_type": "code",
   "outputs": [],
   "source": [
    "df = pd.DataFrame(arr_2)"
   ],
   "metadata": {
    "collapsed": false,
    "ExecuteTime": {
     "end_time": "2024-02-13T12:05:52.070278Z",
     "start_time": "2024-02-13T12:05:52.055109800Z"
    }
   },
   "id": "797df5554c2a343a",
   "execution_count": 4
  },
  {
   "cell_type": "code",
   "outputs": [
    {
     "name": "stdout",
     "output_type": "stream",
     "text": [
      "65.9 ms ± 6.71 ms per loop (mean ± std. dev. of 7 runs, 10 loops each)\n"
     ]
    }
   ],
   "source": [
    "%%timeit\n",
    "df_p_filtered = df_p.filter(df_p['column_955'] > 0.3)"
   ],
   "metadata": {
    "collapsed": false,
    "ExecuteTime": {
     "end_time": "2024-02-13T12:06:48.163147100Z",
     "start_time": "2024-02-13T12:06:42.271079700Z"
    }
   },
   "id": "660b2bdf0ebd3ee8",
   "execution_count": 5
  },
  {
   "cell_type": "code",
   "outputs": [
    {
     "name": "stdout",
     "output_type": "stream",
     "text": [
      "492 µs ± 60.8 µs per loop (mean ± std. dev. of 7 runs, 1,000 loops each)\n"
     ]
    }
   ],
   "source": [
    "%%timeit\n",
    "df_filtered = df.filter(df[955] > 0.3)"
   ],
   "metadata": {
    "collapsed": false,
    "ExecuteTime": {
     "end_time": "2024-02-13T12:06:52.536451700Z",
     "start_time": "2024-02-13T12:06:48.165149300Z"
    }
   },
   "id": "771e2285a811c855",
   "execution_count": 6
  },
  {
   "cell_type": "code",
   "outputs": [
    {
     "name": "stdout",
     "output_type": "stream",
     "text": [
      "89.2 ms ± 8.19 ms per loop (mean ± std. dev. of 7 runs, 10 loops each)\n"
     ]
    }
   ],
   "source": [
    "%%timeit\n",
    "df_p_sorted = df_p.sort('column_1000')"
   ],
   "metadata": {
    "collapsed": false,
    "ExecuteTime": {
     "end_time": "2024-02-13T12:07:31.136193100Z",
     "start_time": "2024-02-13T12:07:23.723961900Z"
    }
   },
   "id": "a896fb83ba6618a5",
   "execution_count": 7
  },
  {
   "cell_type": "code",
   "outputs": [
    {
     "name": "stdout",
     "output_type": "stream",
     "text": [
      "191 ms ± 10.6 ms per loop (mean ± std. dev. of 7 runs, 1 loop each)\n"
     ]
    }
   ],
   "source": [
    "%%timeit\n",
    "df_sorted = df.sort_values(1000)"
   ],
   "metadata": {
    "collapsed": false,
    "ExecuteTime": {
     "end_time": "2024-02-13T12:07:32.962501400Z",
     "start_time": "2024-02-13T12:07:31.132195600Z"
    }
   },
   "id": "466cab6e957fc736",
   "execution_count": 8
  },
  {
   "cell_type": "code",
   "outputs": [],
   "source": [],
   "metadata": {
    "collapsed": false
   },
   "id": "c7ce889a18cc2372"
  }
 ],
 "metadata": {
  "kernelspec": {
   "display_name": "Python 3",
   "language": "python",
   "name": "python3"
  },
  "language_info": {
   "codemirror_mode": {
    "name": "ipython",
    "version": 2
   },
   "file_extension": ".py",
   "mimetype": "text/x-python",
   "name": "python",
   "nbconvert_exporter": "python",
   "pygments_lexer": "ipython2",
   "version": "2.7.6"
  }
 },
 "nbformat": 4,
 "nbformat_minor": 5
}
